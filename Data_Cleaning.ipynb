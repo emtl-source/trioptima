{
 "cells": [
  {
   "cell_type": "markdown",
   "metadata": {},
   "source": [
    "Cleaning the data"
   ]
  },
  {
   "cell_type": "code",
   "execution_count": 2,
   "metadata": {},
   "outputs": [
    {
     "name": "stderr",
     "output_type": "stream",
     "text": [
      "C:\\Users\\gusta\\AppData\\Local\\Temp\\ipykernel_14388\\538574799.py:10: FutureWarning: DataFrame.applymap has been deprecated. Use DataFrame.map instead.\n",
      "  data = data.applymap(lambda x: None if x == '' else x)\n"
     ]
    }
   ],
   "source": [
    "import pandas as pd\n",
    "\n",
    "# Load your data\n",
    "# Replace 'your_file.csv' with the path to your actual file\n",
    "file_name = 'RT.IRS_Data'\n",
    "file_path = file_name + '.csv'\n",
    "data = pd.read_csv(file_path, dtype=str)\n",
    "\n",
    "# Convert any empty strings to NaN\n",
    "data = data.applymap(lambda x: None if x == '' else x)\n",
    "\n",
    "# Set your threshold\n",
    "threshold = 0.3 * len(data)\n",
    "\n",
    "# Identify and print columns to be removed\n",
    "for column in data.columns:\n",
    "    nan_count = data[column].isna().sum()\n",
    "    nan_percentage = nan_count / len(data)\n",
    "    \n",
    "    if nan_percentage >= 0.3:\n",
    "        print(f\"Column {column} has {nan_percentage:.2%} NaN values and will be removed.\")\n",
    "\n",
    "# Remove any columns with more than threshold NaN values\n",
    "cleaned_data = data.dropna(axis=1, thresh=threshold)\n",
    "\n",
    "# Remove any columns with more than threshold NaN values\n",
    "cleaned_data = data.dropna(axis=1, thresh=threshold)\n",
    "\n",
    "# Write cleaned data back to CSV\n",
    "# Replace 'cleaned_file.csv' with the desired name/path for your output file\n",
    "cleaned_file_path = file_name + '_Cleaned.csv'\n",
    "cleaned_data.to_csv(cleaned_file_path, index=False)\n"
   ]
  }
 ],
 "metadata": {
  "kernelspec": {
   "display_name": "Python 3",
   "language": "python",
   "name": "python3"
  },
  "language_info": {
   "codemirror_mode": {
    "name": "ipython",
    "version": 3
   },
   "file_extension": ".py",
   "mimetype": "text/x-python",
   "name": "python",
   "nbconvert_exporter": "python",
   "pygments_lexer": "ipython3",
   "version": "3.11.6"
  },
  "orig_nbformat": 4
 },
 "nbformat": 4,
 "nbformat_minor": 2
}
