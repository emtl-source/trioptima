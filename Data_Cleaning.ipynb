{
 "cells": [
  {
   "cell_type": "markdown",
   "metadata": {},
   "source": [
    "Cleaning the data"
   ]
  },
  {
   "cell_type": "code",
   "execution_count": 13,
   "metadata": {},
   "outputs": [
    {
     "name": "stdout",
     "output_type": "stream",
     "text": [
      "Removed Columns:\n",
      "              Removed Column % NaN Values\n",
      "0         amendmentIndicator       99.72%\n",
      "1        blockTradeIndicator       76.33%\n",
      "2         embeddedOptionType      100.00%\n",
      "3          firstExerciseDate      100.00%\n",
      "4             leg1CallAmount      100.00%\n",
      "..                       ...          ...\n",
      "61        leg2SpreadNotation      100.00%\n",
      "62    multiCurrencyIndicator       99.74%\n",
      "63  leg1ResetFrequencyPeriod       97.62%\n",
      "64     optionExerciseEndDate      100.00%\n",
      "65             leg2FixedRate       98.23%\n",
      "\n",
      "[66 rows x 2 columns]\n",
      "\n",
      "Remaining Columns:\n",
      "['action', 'assetClass', 'cleared', 'customBasketIndicator', 'deliveryType', 'effectiveDate', 'event', 'eventDateTime', 'executionDateTime', 'expirationDate', 'instrumentType', 'leg1FixedRateDayCount', 'leg1FloatingRateDayCount', 'leg1NotionalAmount', 'leg1NotionalCurrency', 'leg1NotionalScheduleType', 'leg1SettlementCurrency', 'leg1UnderlyingAssetOrContractType', 'leg2FloatingRateDayCount', 'leg2NotionalAmount', 'leg2NotionalCurrency', 'leg2NotionalScheduleType', 'leg2ResetFrequencyMultiplier', 'leg2SettlementCurrency', 'nonStandardTermIndicator', 'packageIndicator', 'platformID', 'postPricedSwapIndicator', 'primeBrokerageTransactionIndicator', 'productName', 'leg1FixedRate', 'leg1FixedRatePaymentFrequencyMultiplier', 'leg1FixedRatePaymentFrequencyPeriod', 'leg2FloatingRatePaymentFrequencyMultiplier', 'leg2FloatingRatePaymentFrequencyPeriod', 'leg2UnderlierCurrency', 'leg2UnderlierID', 'leg2UnderlierIDSource', 'leg2UnderlierTenorMultiplier', 'leg2UnderlierTenorPeriod', 'leg2ResetFrequencyPeriod']\n",
      "\n",
      "Number of Remaining Columns: 41\n",
      "\n",
      "Removed Columns:\n",
      "['amendmentIndicator', 'blockTradeIndicator', 'embeddedOptionType', 'firstExerciseDate', 'leg1CallAmount', 'leg1CallCurrency', 'leg1EffectiveNotionalAmount', 'leg1NotionalEffectiveDate', 'leg1NotionalEndDate', 'leg1PutAmount', 'leg1PutCurrency', 'leg1ResetFrequencyMultiplier', 'leg1SettlementLocation', 'leg2CallAmount', 'leg2CallCurrency', 'leg2EffectiveNotionalAmount', 'leg2FixedRateDayCount', 'leg2NotionalEffectiveDate', 'leg2NotionalEndDate', 'leg2PutAmount', 'leg2PutCurrency', 'leg2SettlementLocation', 'leg2UnderlyingAssetOrContractType', 'optionExerciseFrequencyMultiplier', 'optionExerciseFrequencyPeriod', 'optionPremiumAmount', 'optionPremiumCurrency', 'optionStrikePrice', 'optionStrikePriceCurrency', 'optionStrikePriceNotation', 'optionStyle', 'optionType', 'originalDisseminationIdentifier', 'otherPaymentAmount', 'otherPaymentCurrency', 'otherPaymentType', 'packageTransactionPrice', 'packageTransactionPriceCurrency', 'packageTransactionPriceNotation', 'packageTransactionSpread', 'packageTransactionSpreadCurrency', 'packageTransactionSpreadNotation', 'productCode', 'productCodeType', 'returnTriggerType', 'underlierExpirationDate', 'futureValueNotional', 'leg1FloatingRatePaymentFrequencyMultiplier', 'leg1FloatingRatePaymentFrequencyPeriod', 'leg1Spread', 'leg1SpreadCurrency', 'leg1SpreadNotation', 'leg1UnderlierCurrency', 'leg1UnderlierID', 'leg1UnderlierIDSource', 'leg1UnderlierTenorMultiplier', 'leg1UnderlierTenorPeriod', 'leg2FixedRatePaymentFrequencyMultiplier', 'leg2FixedRatePaymentFrequencyPeriod', 'leg2Spread', 'leg2SpreadCurrency', 'leg2SpreadNotation', 'multiCurrencyIndicator', 'leg1ResetFrequencyPeriod', 'optionExerciseEndDate', 'leg2FixedRate']\n"
     ]
    },
    {
     "name": "stderr",
     "output_type": "stream",
     "text": [
      "C:\\Users\\gusta\\AppData\\Local\\Temp\\ipykernel_14388\\3787309890.py:13: FutureWarning: DataFrame.applymap has been deprecated. Use DataFrame.map instead.\n",
      "  data = data.applymap(lambda x: None if x == '' else x)\n"
     ]
    }
   ],
   "source": [
    "import pandas as pd\n",
    "\n",
    "# Load your data\n",
    "# Replace 'your_file.csv' with the path to your actual file\n",
    "file_name = 'RT.IRS_Data_2023'\n",
    "file_path = file_name + '.csv'\n",
    "data = pd.read_csv(file_path, dtype=str)\n",
    "\n",
    "# Drop 'disseminationTimestamp' and its derived columns\n",
    "data = data.drop(columns=['disseminationTimestamp','sDRreceiptTimestamp','disseminationIdentifier'])\n",
    "\n",
    "# Convert any empty strings to NaN\n",
    "data = data.applymap(lambda x: None if x == '' else x)\n",
    "\n",
    "# Set your threshold\n",
    "threshold = 0.3 * len(data)\n",
    "\n",
    "# Collect removed columns and percentages\n",
    "removed_columns = []\n",
    "nan_percentages = []\n",
    "\n",
    "# Identify columns to be removed and collect their names and NaN percentages\n",
    "for column in data.columns:\n",
    "    nan_count = data[column].isna().sum()\n",
    "    nan_percentage = nan_count / len(data)\n",
    "    \n",
    "    if nan_percentage >= 0.3:\n",
    "        removed_columns.append(column)\n",
    "        nan_percentages.append(f\"{nan_percentage:.2%}\")\n",
    "\n",
    "# Display removed columns and percentages in a table\n",
    "removed_data = pd.DataFrame({\n",
    "    'Removed Column': removed_columns,\n",
    "    '% NaN Values': nan_percentages\n",
    "})\n",
    "print(\"Removed Columns:\")\n",
    "print(removed_data)\n",
    "\n",
    "# Remove identified columns\n",
    "cleaned_data = data.drop(columns=removed_columns)\n",
    "\n",
    "# Display remaining columns\n",
    "remaining_columns = list(cleaned_data.columns)\n",
    "print(\"\\nRemaining Columns:\")\n",
    "print(remaining_columns)\n",
    "\n",
    "# Display the number of remaining columns\n",
    "print(f\"\\nNumber of Remaining Columns: {len(remaining_columns)}\")\n",
    "\n",
    "print(\"\\nRemoved Columns:\")\n",
    "print(removed_columns)\n",
    "\n",
    "\n",
    "\n",
    "# Write cleaned data back to CSV\n",
    "# Replace 'cleaned_file.csv' with the desired name/path for your output file\n",
    "cleaned_file_path = file_name + '_Cleaned.csv'\n",
    "cleaned_data.to_csv(cleaned_file_path, index=False)\n"
   ]
  }
 ],
 "metadata": {
  "kernelspec": {
   "display_name": "Python 3",
   "language": "python",
   "name": "python3"
  },
  "language_info": {
   "codemirror_mode": {
    "name": "ipython",
    "version": 3
   },
   "file_extension": ".py",
   "mimetype": "text/x-python",
   "name": "python",
   "nbconvert_exporter": "python",
   "pygments_lexer": "ipython3",
   "version": "3.11.6"
  },
  "orig_nbformat": 4
 },
 "nbformat": 4,
 "nbformat_minor": 2
}
