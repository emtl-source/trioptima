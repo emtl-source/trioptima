{
 "cells": [
  {
   "cell_type": "markdown",
   "metadata": {},
   "source": [
    "The pre processor is used to process all data into a suitable format for the autoencoder."
   ]
  },
  {
   "cell_type": "code",
   "execution_count": 1,
   "metadata": {},
   "outputs": [],
   "source": [
    "# PREPROCESSOR \n",
    "import pandas as pd\n",
    "import numpy as np\n",
    "from sklearn.preprocessing import StandardScaler, OneHotEncoder\n",
    "from sklearn.compose import ColumnTransformer\n",
    "from sklearn.pipeline import Pipeline\n",
    "from sklearn.impute import SimpleImputer\n",
    "\n",
    "# Loading Data from CSV\n",
    "your_path = r'C:\\Users\\gusta\\Documents\\KTH\\TriOptima\\trioptima'\n",
    "file_path = your_path + '/RT.IRS_CLEAN.csv'\n",
    "data = pd.read_csv(file_path)\n",
    "\n",
    "# Handling DateTime Variables\n",
    "data['effectiveDate'] = pd.to_datetime(data['effectiveDate'], errors='coerce')\n",
    "data['effectiveYear'] = data['effectiveDate'].dt.year\n",
    "data['effectiveMonth'] = data['effectiveDate'].dt.month\n",
    "data['effectiveDay'] = data['effectiveDate'].dt.day\n",
    "\n",
    "# Drop the original 'effectiveDate' column\n",
    "data = data.drop(columns=['effectiveDate'])\n",
    "\n",
    "# Identifying variable types\n",
    "numerical_vars = ['leg1FixedRate', 'leg1FixedRatePaymentFrequencyMultiplier', 'effectiveYear', 'effectiveMonth', 'effectiveDay']\n",
    "categorical_vars = ['action', 'assetClass', 'leg2UnderlierTenorPeriod', 'leg2ResetFrequencyPeriod']\n",
    "\n",
    "# Preprocessing: Numerical Variables\n",
    "numeric_transformer = Pipeline(steps=[\n",
    "    ('imputer', SimpleImputer(strategy='median')),\n",
    "    ('scaler', StandardScaler())\n",
    "])\n",
    "\n",
    "# Preprocessing: Categorical Variables\n",
    "categorical_transformer = Pipeline(steps=[\n",
    "    ('imputer', SimpleImputer(strategy='most_frequent')),\n",
    "    ('onehot', OneHotEncoder(handle_unknown='ignore'))\n",
    "])\n",
    "\n",
    "# Column Transformer: Applying transformations to respective columns\n",
    "preprocessor = ColumnTransformer(\n",
    "    transformers=[\n",
    "        ('num', numeric_transformer, numerical_vars),\n",
    "        ('cat', categorical_transformer, categorical_vars)\n",
    "    ]\n",
    ")\n",
    "\n",
    "# Applying Preprocessing\n",
    "data_preprocessed = pd.DataFrame(preprocessor.fit_transform(data))\n"
   ]
  },
  {
   "cell_type": "markdown",
   "metadata": {},
   "source": [
    "Exporting the processed data into a .csv"
   ]
  },
  {
   "cell_type": "code",
   "execution_count": 2,
   "metadata": {},
   "outputs": [],
   "source": [
    "import os\n",
    "\n",
    "# Define the path\n",
    "path = your_path\n",
    "\n",
    "# Check if the path does not exist\n",
    "if not os.path.exists(path):\n",
    "    # Create the directory\n",
    "    os.makedirs(path)\n",
    "\n",
    "# Now you can save the DataFrame\n",
    "data_preprocessed.to_csv(f'{path}/processed_data.csv', index=False)\n",
    "\n"
   ]
  }
 ],
 "metadata": {
  "kernelspec": {
   "display_name": "Python 3",
   "language": "python",
   "name": "python3"
  },
  "language_info": {
   "codemirror_mode": {
    "name": "ipython",
    "version": 3
   },
   "file_extension": ".py",
   "mimetype": "text/x-python",
   "name": "python",
   "nbconvert_exporter": "python",
   "pygments_lexer": "ipython3",
   "version": "3.11.6"
  },
  "orig_nbformat": 4
 },
 "nbformat": 4,
 "nbformat_minor": 2
}
