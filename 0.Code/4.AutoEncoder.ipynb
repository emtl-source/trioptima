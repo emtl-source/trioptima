{
 "cells": [
  {
   "cell_type": "markdown",
   "metadata": {},
   "source": [
    "Defining the autoencoder module"
   ]
  },
  {
   "cell_type": "code",
   "execution_count": 1,
   "metadata": {},
   "outputs": [
    {
     "name": "stdout",
     "output_type": "stream",
     "text": [
      "Inf values in data:  0\n",
      "NaN values in data:  0\n"
     ]
    },
    {
     "name": "stderr",
     "output_type": "stream",
     "text": [
      "C:\\Users\\gusta\\AppData\\Local\\Temp\\ipykernel_5060\\3648984474.py:37: FutureWarning: DataFrame.applymap has been deprecated. Use DataFrame.map instead.\n",
      "  assert data_preprocessed.applymap(np.isreal).all().all(), \"Non-numeric data found\"\n"
     ]
    },
    {
     "name": "stdout",
     "output_type": "stream",
     "text": [
      "Epoch 1/10\n",
      "51/51 [==============================] - 1s 5ms/step - loss: 84805.7812 - val_loss: 84767.7344\n",
      "Epoch 2/10\n",
      "51/51 [==============================] - 0s 2ms/step - loss: 84805.6328 - val_loss: 84767.7344\n",
      "Epoch 3/10\n",
      "51/51 [==============================] - 0s 2ms/step - loss: 84805.6328 - val_loss: 84767.7344\n",
      "Epoch 4/10\n",
      "51/51 [==============================] - 0s 2ms/step - loss: 84805.6172 - val_loss: 84767.7344\n",
      "Epoch 5/10\n",
      "51/51 [==============================] - 0s 2ms/step - loss: 84805.6406 - val_loss: 84767.7344\n",
      "Epoch 6/10\n",
      "51/51 [==============================] - 0s 2ms/step - loss: 84805.6328 - val_loss: 84767.7344\n",
      "Epoch 7/10\n",
      "51/51 [==============================] - 0s 2ms/step - loss: 84805.6328 - val_loss: 84767.7344\n",
      "Epoch 8/10\n",
      "51/51 [==============================] - 0s 2ms/step - loss: 84805.6328 - val_loss: 84767.7344\n",
      "Epoch 9/10\n",
      "51/51 [==============================] - 0s 2ms/step - loss: 84805.6406 - val_loss: 84767.7344\n",
      "Epoch 10/10\n",
      "51/51 [==============================] - 0s 2ms/step - loss: 84805.6328 - val_loss: 84767.7344\n",
      "Epoch 1/10\n",
      "51/51 [==============================] - 1s 5ms/step - loss: 84770.2812 - val_loss: 84725.7656\n",
      "Epoch 2/10\n",
      "51/51 [==============================] - 0s 2ms/step - loss: 84763.6953 - val_loss: 84725.7422\n",
      "Epoch 3/10\n",
      "51/51 [==============================] - 0s 2ms/step - loss: 84763.6562 - val_loss: 84725.7422\n",
      "Epoch 4/10\n",
      "51/51 [==============================] - 0s 2ms/step - loss: 84763.6797 - val_loss: 84725.7422\n",
      "Epoch 5/10\n",
      "51/51 [==============================] - 0s 2ms/step - loss: 84763.6641 - val_loss: 84725.7422\n",
      "Epoch 6/10\n",
      "51/51 [==============================] - 0s 2ms/step - loss: 84763.6562 - val_loss: 84725.7422\n",
      "Epoch 7/10\n",
      "51/51 [==============================] - 0s 2ms/step - loss: 84763.6562 - val_loss: 84725.7500\n",
      "Epoch 8/10\n",
      "51/51 [==============================] - 0s 2ms/step - loss: 84763.6641 - val_loss: 84725.7422\n",
      "Epoch 9/10\n",
      "51/51 [==============================] - 0s 2ms/step - loss: 84763.6875 - val_loss: 84725.7422\n",
      "Epoch 10/10\n",
      "51/51 [==============================] - 0s 2ms/step - loss: 84763.6562 - val_loss: 84725.7422\n",
      "Epoch 1/10\n",
      "51/51 [==============================] - 1s 4ms/step - loss: 84764.2656 - val_loss: 84726.3750\n",
      "Epoch 2/10\n",
      "51/51 [==============================] - 0s 1ms/step - loss: 84764.2422 - val_loss: 84726.3750\n",
      "Epoch 3/10\n",
      "51/51 [==============================] - 0s 1ms/step - loss: 84764.2500 - val_loss: 84726.3750\n",
      "Epoch 4/10\n",
      "51/51 [==============================] - 0s 1ms/step - loss: 84764.2422 - val_loss: 84726.3750\n",
      "Epoch 5/10\n",
      "51/51 [==============================] - 0s 1ms/step - loss: 84764.2500 - val_loss: 84726.3750\n",
      "Epoch 6/10\n",
      "51/51 [==============================] - 0s 2ms/step - loss: 84764.2500 - val_loss: 84726.3750\n",
      "Epoch 7/10\n",
      "51/51 [==============================] - 0s 2ms/step - loss: 84764.2422 - val_loss: 84726.3750\n",
      "Epoch 8/10\n",
      "51/51 [==============================] - 0s 2ms/step - loss: 84764.2656 - val_loss: 84726.3750\n",
      "Epoch 9/10\n",
      "51/51 [==============================] - 0s 2ms/step - loss: 84764.2422 - val_loss: 84726.3750\n",
      "Epoch 10/10\n",
      "51/51 [==============================] - 0s 1ms/step - loss: 84764.2656 - val_loss: 84726.3750\n",
      "Epoch 1/10\n",
      "51/51 [==============================] - 1s 4ms/step - loss: 84797.7578 - val_loss: 84725.7031\n",
      "Epoch 2/10\n",
      "51/51 [==============================] - 0s 2ms/step - loss: 84763.5469 - val_loss: 84725.6953\n",
      "Epoch 3/10\n",
      "51/51 [==============================] - 0s 2ms/step - loss: 84763.5391 - val_loss: 84725.6875\n",
      "Epoch 4/10\n",
      "51/51 [==============================] - 0s 2ms/step - loss: 84763.5469 - val_loss: 84725.6875\n",
      "Epoch 5/10\n",
      "51/51 [==============================] - 0s 2ms/step - loss: 84763.5391 - val_loss: 84725.6953\n",
      "Epoch 6/10\n",
      "51/51 [==============================] - 0s 2ms/step - loss: 84763.5391 - val_loss: 84725.6641\n",
      "Epoch 7/10\n",
      "51/51 [==============================] - 0s 2ms/step - loss: 84763.5312 - val_loss: 84725.6641\n",
      "Epoch 8/10\n",
      "51/51 [==============================] - 0s 2ms/step - loss: 84763.5391 - val_loss: 84725.6641\n",
      "Epoch 9/10\n",
      "51/51 [==============================] - 0s 2ms/step - loss: 84763.5391 - val_loss: 84725.6641\n",
      "Epoch 10/10\n",
      "51/51 [==============================] - 0s 2ms/step - loss: 84763.5391 - val_loss: 84725.6641\n",
      "Best Model Configuration:\n",
      "Number of Layers: 5\n",
      "Number of Neurons per Layer: 60\n"
     ]
    }
   ],
   "source": [
    "import pandas as pd\n",
    "import tensorflow as tf\n",
    "from tensorflow.keras import layers, models\n",
    "import numpy as np\n",
    "from tensorflow.keras import backend as K\n",
    "import os\n",
    "\n",
    "#r'C:\\Users\\gusta\\Documents\\KTH\\TriOptima\\trioptima/'\n",
    "#'/Users/elliotlindestam/Documents/Skola/Indek icloud/trioptima/'\n",
    "your_path = r'C:\\Users\\gusta\\Documents\\KTH\\TriOptima\\trioptima/'\n",
    "folder_path = your_path + '6.Active Data/Train Model Data/'\n",
    "# Get file in the folder\n",
    "files = os.listdir(folder_path)\n",
    "\n",
    "# MAC issue\n",
    "files = [f for f in files if f != '.DS_Store']\n",
    "file_name = files[0][:-4]\n",
    "\n",
    "# Load preprocessed data\n",
    "file_path = your_path + '4.Scaled/' + file_name +'_Scaled.csv'\n",
    "data_preprocessed = pd.read_csv(file_path, header=0)\n",
    "\n",
    "# Convert data to float32\n",
    "data_preprocessed = data_preprocessed.astype(np.float32)\n",
    "\n",
    "# Check for inf or NaN values in data\n",
    "print(\"Inf values in data: \", np.isinf(data_preprocessed).values.sum())\n",
    "print(\"NaN values in data: \", np.isnan(data_preprocessed).values.sum())\n",
    "\n",
    "# Check to make sure the data is in expected format\n",
    "try:\n",
    "    data_preprocessed = data_preprocessed.astype(float)\n",
    "except ValueError as e:\n",
    "    print(f\"ValueError: {e}\")\n",
    "\n",
    "# Check to make sure the data is in expected format\n",
    "assert data_preprocessed.applymap(np.isreal).all().all(), \"Non-numeric data found\"\n",
    "assert not data_preprocessed.isnull().any().any(), \"NaN values found\"\n",
    "\n",
    "# Dimensions\n",
    "input_dim = data_preprocessed.shape[1]\n",
    "encoding_dim = int(input_dim / 2)\n",
    "\n",
    "# Set layer and neurons options\n",
    "layer_options = [2, 5]\n",
    "neuron_options = [41, 60]\n",
    "\n",
    "# Variables to store the best model's configurations and weights\n",
    "best_val_loss = float('inf')  # Set initial value to infinity\n",
    "best_num_layers = None\n",
    "best_num_neurons = None\n",
    "best_weights = None\n",
    "\n",
    "# Iterate over neuron configurations\n",
    "for num_neurons in neuron_options:\n",
    "    # Iterate over layer configurations\n",
    "    for num_layers in layer_options:\n",
    "        K.clear_session()\n",
    "\n",
    "        input_layer = layers.Input(shape=(input_dim,))\n",
    "        encoder_layer = layers.Dense(num_neurons, activation='relu')(input_layer)\n",
    "        \n",
    "        # Add extra layers based on num_layers\n",
    "        for _ in range(1, num_layers):\n",
    "            encoder_layer = layers.Dense(num_neurons, activation='relu')(encoder_layer)\n",
    "\n",
    "        decoder_layer = layers.Dense(input_dim, activation='sigmoid')(encoder_layer)\n",
    "\n",
    "        temp_autoencoder = models.Model(inputs=input_layer, outputs=decoder_layer)\n",
    "        temp_autoencoder.compile(optimizer='adam', loss='mean_squared_error')\n",
    "        \n",
    "        history = temp_autoencoder.fit(\n",
    "            data_preprocessed, data_preprocessed,\n",
    "            epochs=10, \n",
    "            batch_size=32,\n",
    "            shuffle=True,\n",
    "            validation_split=0.1\n",
    "        )\n",
    "        \n",
    "        final_val_loss = history.history['val_loss'][-1]\n",
    "        if final_val_loss < best_val_loss:\n",
    "            best_val_loss = final_val_loss\n",
    "            best_num_layers = num_layers\n",
    "            best_num_neurons = num_neurons\n",
    "            best_weights = temp_autoencoder.get_weights()\n",
    "\n",
    "# Construct the best model with configurations\n",
    "K.clear_session()\n",
    "input_layer = layers.Input(shape=(input_dim,))\n",
    "encoder_layer = layers.Dense(best_num_neurons, activation='relu')(input_layer)\n",
    "for _ in range(1, best_num_layers):\n",
    "    encoder_layer = layers.Dense(best_num_neurons, activation='relu')(encoder_layer)\n",
    "decoder_layer = layers.Dense(input_dim, activation='sigmoid')(encoder_layer)\n",
    "\n",
    "autoencoder = models.Model(inputs=input_layer, outputs=decoder_layer)\n",
    "autoencoder.compile(optimizer='adam', loss='mean_squared_error')\n",
    "\n",
    "# Load the best weights into the best model\n",
    "autoencoder.set_weights(best_weights)\n",
    "\n",
    "# Display the number of layers and neurons in the best model\n",
    "print(f\"Best Model Configuration:\\nNumber of Layers: {best_num_layers}\\nNumber of Neurons per Layer: {best_num_neurons}\")\n"
   ]
  },
  {
   "cell_type": "markdown",
   "metadata": {},
   "source": [
    "Anomaly detection"
   ]
  },
  {
   "cell_type": "markdown",
   "metadata": {},
   "source": [
    "Should this really be made on the training data and not the test data? If not, we need to change predictions = autoencoder.predict"
   ]
  },
  {
   "cell_type": "code",
   "execution_count": 2,
   "metadata": {},
   "outputs": [
    {
     "name": "stderr",
     "output_type": "stream",
     "text": [
      "C:\\Users\\gusta\\AppData\\Local\\Temp\\ipykernel_5060\\3229174194.py:19: FutureWarning: DataFrame.applymap has been deprecated. Use DataFrame.map instead.\n",
      "  assert data_preprocessed.applymap(np.isreal).all().all(), \"Non-numeric data found\"\n"
     ]
    },
    {
     "name": "stdout",
     "output_type": "stream",
     "text": [
      "57/57 [==============================] - 0s 769us/step\n",
      "       reconstruction_error\n",
      "count           1794.000000\n",
      "mean           84759.737758\n",
      "std              684.724156\n",
      "min            84260.268869\n",
      "25%            84309.119921\n",
      "50%            84510.659493\n",
      "75%            84861.845889\n",
      "max            87592.422024\n"
     ]
    }
   ],
   "source": [
    "############### SEE COMMENT ABOVE ##################\n",
    "#######################################################\n",
    "\n",
    "folder_path = your_path + '6.Active Data/Test Data/'\n",
    "# Get file in the folder\n",
    "files = os.listdir(folder_path)\n",
    "\n",
    "# MAC issue\n",
    "files = [f for f in files if f != '.DS_Store']\n",
    "file_name = files[0][:-4]\n",
    "\n",
    "# Check to make sure the data is in expected format\n",
    "try:\n",
    "    data_preprocessed = data_preprocessed.astype(float)\n",
    "except ValueError as e:\n",
    "    print(f\"ValueError: {e}\")\n",
    "\n",
    "# Check to make sure the data is in expected format\n",
    "assert data_preprocessed.applymap(np.isreal).all().all(), \"Non-numeric data found\"\n",
    "assert not data_preprocessed.isnull().any().any(), \"NaN values found\"\n",
    "####################### END TO COMMENT ################\n",
    "\n",
    "\n",
    "# Obtain the reconstructed data\n",
    "predictions = autoencoder.predict(data_preprocessed)\n",
    "\n",
    "# Measure the reconstruction error\n",
    "mse = np.mean(np.power(data_preprocessed - predictions, 2), axis=1)\n",
    "\n",
    "# Convert mse to a DataFrame for easier handling\n",
    "mse_df = pd.DataFrame({'reconstruction_error': mse})\n",
    "\n",
    "# Display basic statistics of the error\n",
    "print(mse_df.describe())\n"
   ]
  },
  {
   "cell_type": "markdown",
   "metadata": {},
   "source": [
    "Visualize"
   ]
  },
  {
   "cell_type": "code",
   "execution_count": 5,
   "metadata": {},
   "outputs": [
    {
     "data": {
      "image/png": "[encoded data removed]",
      "text/plain": [
       "<Figure size 1200x600 with 1 Axes>"
      ]
     },
     "metadata": {},
     "output_type": "display_data"
    },
    {
     "name": "stdout",
     "output_type": "stream",
     "text": [
      "Anomaly threshold: 87589.07373576902\n"
     ]
    }
   ],
   "source": [
    "import matplotlib.pyplot as plt\n",
    "import seaborn as sns\n",
    "\n",
    "plt.figure(figsize=(12, 6))\n",
    "sns.histplot(mse_df['reconstruction_error'], bins=50, kde=True)\n",
    "plt.title('Reconstruction error distribution')\n",
    "plt.xlabel('Reconstruction error')\n",
    "plt.ylabel('Frequency')\n",
    "\n",
    "\n",
    "threshold = np.percentile(mse_df['reconstruction_error'], 99)\n",
    "plt.axvline(x=threshold, color='r', linestyle='--', label=f'Threshold: {threshold:.2f}')\n",
    "plt.show() \n",
    "print(f\"Anomaly threshold: {threshold}\")\n",
    "\n"
   ]
  },
  {
   "cell_type": "markdown",
   "metadata": {},
   "source": [
    "Test new data for outliers"
   ]
  },
  {
   "cell_type": "code",
   "execution_count": 6,
   "metadata": {},
   "outputs": [
    {
     "name": "stdout",
     "output_type": "stream",
     "text": [
      "Inf values in data:  0\n",
      "NaN values in data:  0\n",
      "10/10 [==============================] - 0s 786us/step\n"
     ]
    }
   ],
   "source": [
    "import pandas as pd\n",
    "import numpy as np\n",
    "\n",
    "# Set the file paths\n",
    "folder_path = your_path + '6.Active Data/Test Data/'\n",
    "# Get file in the folder\n",
    "files = os.listdir(folder_path)\n",
    "# MAC issue\n",
    "files = [f for f in files if f != '.DS_Store']\n",
    "file_name_test = files[0][:-4]\n",
    "\n",
    "t_data_path = your_path + '3.Cash_Risk/' + file_name_test +'_Cash_Risk.csv' # THIS IS THE ORIGINAL TEST DATA \n",
    "t_data_scaled_path = your_path + '4.Scaled/' + file_name_test + '_Scaled.csv' # THIS IS THE SCALED TEST DATA\n",
    "\n",
    "# Load new trade data from CSV (both processed and original)\n",
    "t_data_scaled = pd.read_csv(t_data_scaled_path)\n",
    "t_data = pd.read_csv(t_data_path)\n",
    "\n",
    "# Convert data to float32\n",
    "t_data_scaled = t_data_scaled.astype(np.float32)\n",
    "\n",
    "# Check for inf or NaN values in data\n",
    "print(\"Inf values in data: \", np.isinf(t_data_scaled).values.sum())\n",
    "print(\"NaN values in data: \", np.isnan(t_data_scaled).values.sum())\n",
    "\n",
    "# Check to make sure the data is in expected format\n",
    "try:\n",
    "    t_data_scaled = t_data_scaled.astype(float)\n",
    "except ValueError as e:\n",
    "    print(f\"ValueError: {e}\")\n",
    "\n",
    "\n",
    "# Make sure the autoencoder variable is already defined and trained\n",
    "# Predict with the autoencoder\n",
    "new_predictions = autoencoder.predict(t_data_scaled)\n",
    "\n",
    "# Measure the reconstruction error\n",
    "new_mse = np.mean(np.power(t_data_scaled - new_predictions, 2), axis=1)\n",
    "new_mse_df = pd.DataFrame({'reconstruction_error': new_mse})\n",
    "\n",
    "# Determine whether each trade is an outlier or not\n",
    "outlier_indices = new_mse_df[new_mse_df['reconstruction_error'] > threshold].index\n",
    "\n",
    "# Filter the outlier trades from the original data using the outlier indices\n",
    "outlier_trades_original = t_data.iloc[outlier_indices]\n",
    "\n",
    "# Save the outlier trades to a CSV file in the original format\n",
    "outlier_file_path = your_path + '5.Outliers/' + 'Outlier_IRS_test.csv'\n",
    "outlier_trades_original.to_csv(outlier_file_path, index=False)\n"
   ]
  }
 ],
 "metadata": {
  "kernelspec": {
   "display_name": "Python 3",
   "language": "python",
   "name": "python3"
  },
  "language_info": {
   "codemirror_mode": {
    "name": "ipython",
    "version": 3
   },
   "file_extension": ".py",
   "mimetype": "text/x-python",
   "name": "python",
   "nbconvert_exporter": "python",
   "pygments_lexer": "ipython3",
   "version": "3.11.6"
  },
  "orig_nbformat": 4
 },
 "nbformat": 4,
 "nbformat_minor": 2
}
