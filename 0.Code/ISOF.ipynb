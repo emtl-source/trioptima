{
 "cells": [
  {
   "cell_type": "markdown",
   "metadata": {},
   "source": [
    "Defining the autoencoder module"
   ]
  },
  {
   "cell_type": "code",
   "execution_count": 6,
   "metadata": {},
   "outputs": [
    {
     "name": "stdout",
     "output_type": "stream",
     "text": [
      "Inf values in data:  0\n",
      "NaN values in data:  0\n",
      "Inf values in data:  0\n",
      "NaN values in data:  0\n",
      "Number of outliers detected: 3\n"
     ]
    }
   ],
   "source": [
    "import os\n",
    "import numpy as np\n",
    "import pandas as pd\n",
    "from sklearn.ensemble import IsolationForest\n",
    "\n",
    "# Constants and Configurations\n",
    "your_path = r'/Users/elliotlindestam/Documents/Skola/Indek icloud/trioptima/'\n",
    "train_folder_path = os.path.join(your_path, '6.Active Data/Train Model Data/')\n",
    "test_folder_path = os.path.join(your_path, '6.Active Data/Test Data/')\n",
    "\n",
    "\n",
    "def load_preprocessed_data(folder_path):\n",
    "    # Get file in the folder\n",
    "    files = [f for f in os.listdir(folder_path) if f != '.DS_Store']\n",
    "    file_name = files[0][:-4]\n",
    "\n",
    "    # Load preprocessed data\n",
    "    file_path = os.path.join(your_path, '4.Scaled', file_name + '_Scaled.csv')\n",
    "    data = pd.read_csv(file_path, header=0)\n",
    "\n",
    "    # Convert data to float32\n",
    "    data = data.astype(np.float32)\n",
    "\n",
    "    # Check for inf or NaN values in data\n",
    "    print(\"Inf values in data: \", np.isinf(data).values.sum())\n",
    "    print(\"NaN values in data: \", np.isnan(data).values.sum())\n",
    "\n",
    "    return data\n",
    "\n",
    "def main():\n",
    "    train_data_preprocessed = load_preprocessed_data(train_folder_path)\n",
    "    test_data_preprocessed = load_preprocessed_data(test_folder_path)\n",
    "    # Ensure data is in expected format\n",
    "    assert train_data_preprocessed.apply(np.isreal).all().all(), \"Non-numeric data found\"\n",
    "    assert not train_data_preprocessed.isnull().any().any(), \"NaN values found\"\n",
    "\n",
    "    assert test_data_preprocessed.apply(np.isreal).all().all(), \"Non-numeric data found\"\n",
    "    assert not test_data_preprocessed.isnull().any().any(), \"NaN values found\"\n",
    "\n",
    "    # Initialize Isolation Forest\n",
    "    clf = IsolationForest(n_estimators=100, contamination='auto')\n",
    "    \n",
    "    # Fit the Isolation Forest model\n",
    "    clf.fit(train_data_preprocessed)\n",
    "\n",
    "    # Optionally, use the Isolation Forest to predict on the data\n",
    "    # The model will return -1 for outliers and 1 for inliers\n",
    "    predictions = clf.predict(test_data_preprocessed)\n",
    "\n",
    "    # Count the number of -1 values in the predictions array\n",
    "    number_of_outliers = np.sum(predictions == -1)\n",
    "    print(\"Number of outliers detected:\", number_of_outliers)\n",
    "\n",
    "\n",
    "    # Get anomaly scores\n",
    "    anomaly_scores = clf.decision_function(test_data_preprocessed)\n",
    "\n",
    "    # Return the Isolation Forest model, predictions, and anomaly scores\n",
    "    return clf, predictions, anomaly_scores\n",
    "\n",
    "if __name__ == \"__main__\":\n",
    "    model, preds, scores = main()\n",
    "\n"
   ]
  }
 ],
 "metadata": {
  "kernelspec": {
   "display_name": "Python 3",
   "language": "python",
   "name": "python3"
  },
  "language_info": {
   "codemirror_mode": {
    "name": "ipython",
    "version": 3
   },
   "file_extension": ".py",
   "mimetype": "text/x-python",
   "name": "python",
   "nbconvert_exporter": "python",
   "pygments_lexer": "ipython3",
   "version": "3.10.0"
  },
  "orig_nbformat": 4
 },
 "nbformat": 4,
 "nbformat_minor": 2
}
