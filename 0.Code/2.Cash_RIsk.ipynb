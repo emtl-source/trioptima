{
 "cells": [
  {
   "cell_type": "markdown",
   "metadata": {},
   "source": [
    "CashFlow"
   ]
  },
  {
   "cell_type": "markdown",
   "metadata": {},
   "source": [
    "Adds currency and asset type filters"
   ]
  },
  {
   "cell_type": "code",
   "execution_count": 60,
   "metadata": {},
   "outputs": [
    {
     "name": "stdout",
     "output_type": "stream",
     "text": [
      "['USD-LIBOR-BBA' 'EUR-EURIBOR' 'USD-Federal Funds-H.15-OIS-COMPOUND'\n",
      " 'EUR-EuroSTR-OIS Compound' 'GBP-SONIA-OIS Compound'\n",
      " 'USD-SOFR-OIS Compound' 'USD-SOFR-1M']\n",
      "7\n"
     ]
    }
   ],
   "source": [
    "import pandas as pd\n",
    "import os\n",
    "\n",
    "#r'C:\\Users\\gusta\\Documents\\KTH\\TriOptima\\trioptima\\'\n",
    "#'/Users/elliotlindestam/Documents/Skola/Indek icloud/trioptima/'\n",
    "your_path = r'C:\\Users\\gusta\\Documents\\KTH\\TriOptima\\trioptima/'\n",
    "folder_path = your_path + '6.Active Data/Train Model Data/'\n",
    "# Get file in the folder\n",
    "files = os.listdir(folder_path)\n",
    "# MAC issue\n",
    "files = [f for f in files if f != '.DS_Store']\n",
    "data_file = files[0][:-4]\n",
    "\n",
    "# Load the data\n",
    "data = pd.read_csv(your_path + \"2.Cleaned/\" + data_file +'_Cleaned.csv')\n",
    "\n",
    "# Filter trades based on conditions\n",
    "filtered_data = data[\n",
    "    (data['leg1NotionalCurrency'].isin(['EUR', 'USD', 'GBP'])) & \n",
    "    (data['leg1UnderlyingAssetOrContractType'].isin(['Fixed-Floating', 'OIS']))\n",
    "]\n",
    "\n",
    "print(filtered_data['leg2UnderlierID'].unique())\n",
    "print(len(filtered_data['leg2UnderlierID'].unique()))\n",
    "\n",
    "\n",
    "\n"
   ]
  },
  {
   "cell_type": "markdown",
   "metadata": {},
   "source": [
    "Calculates discounted cashflows for Fixed-Floating and OIS"
   ]
  },
  {
   "cell_type": "code",
   "execution_count": 62,
   "metadata": {},
   "outputs": [
    {
     "name": "stderr",
     "output_type": "stream",
     "text": [
      "C:\\Users\\gusta\\AppData\\Local\\Temp\\ipykernel_16960\\1197828469.py:10: UserWarning: Could not infer format, so each element will be parsed individually, falling back to `dateutil`. To ensure parsing is consistent and as-expected, please specify a format.\n",
      "  df['effectiveDate'] = pd.to_datetime(df['effectiveDate'])\n",
      "C:\\Users\\gusta\\AppData\\Local\\Temp\\ipykernel_16960\\1197828469.py:11: UserWarning: Could not infer format, so each element will be parsed individually, falling back to `dateutil`. To ensure parsing is consistent and as-expected, please specify a format.\n",
      "  df['expirationDate'] = pd.to_datetime(df['expirationDate'])\n"
     ]
    },
    {
     "ename": "KeyError",
     "evalue": "'leg2FloatRate'",
     "output_type": "error",
     "traceback": [
      "\u001b[1;31m---------------------------------------------------------------------------\u001b[0m",
      "\u001b[1;31mKeyError\u001b[0m                                  Traceback (most recent call last)",
      "File \u001b[1;32mc:\\Users\\gusta\\AppData\\Local\\Programs\\Python\\Python311\\Lib\\site-packages\\pandas\\core\\indexes\\base.py:3790\u001b[0m, in \u001b[0;36mIndex.get_loc\u001b[1;34m(self, key)\u001b[0m\n\u001b[0;32m   3789\u001b[0m \u001b[39mtry\u001b[39;00m:\n\u001b[1;32m-> 3790\u001b[0m     \u001b[39mreturn\u001b[39;00m \u001b[39mself\u001b[39;49m\u001b[39m.\u001b[39;49m_engine\u001b[39m.\u001b[39;49mget_loc(casted_key)\n\u001b[0;32m   3791\u001b[0m \u001b[39mexcept\u001b[39;00m \u001b[39mKeyError\u001b[39;00m \u001b[39mas\u001b[39;00m err:\n",
      "File \u001b[1;32mindex.pyx:152\u001b[0m, in \u001b[0;36mpandas._libs.index.IndexEngine.get_loc\u001b[1;34m()\u001b[0m\n",
      "File \u001b[1;32mindex.pyx:181\u001b[0m, in \u001b[0;36mpandas._libs.index.IndexEngine.get_loc\u001b[1;34m()\u001b[0m\n",
      "File \u001b[1;32mpandas\\_libs\\hashtable_class_helper.pxi:7080\u001b[0m, in \u001b[0;36mpandas._libs.hashtable.PyObjectHashTable.get_item\u001b[1;34m()\u001b[0m\n",
      "File \u001b[1;32mpandas\\_libs\\hashtable_class_helper.pxi:7088\u001b[0m, in \u001b[0;36mpandas._libs.hashtable.PyObjectHashTable.get_item\u001b[1;34m()\u001b[0m\n",
      "\u001b[1;31mKeyError\u001b[0m: 'leg2FloatRate'",
      "\nThe above exception was the direct cause of the following exception:\n",
      "\u001b[1;31mKeyError\u001b[0m                                  Traceback (most recent call last)",
      "\u001b[1;32mc:\\Users\\gusta\\Documents\\KTH\\TriOptima\\trioptima\\0.Code\\2.Cash_RIsk.ipynb Cell 5\u001b[0m line \u001b[0;36m6\n\u001b[0;32m     <a href='vscode-notebook-cell:/c%3A/Users/gusta/Documents/KTH/TriOptima/trioptima/0.Code/2.Cash_RIsk.ipynb#W6sZmlsZQ%3D%3D?line=65'>66</a>\u001b[0m     \u001b[39mreturn\u001b[39;00m total_discounted_cashflow\n\u001b[0;32m     <a href='vscode-notebook-cell:/c%3A/Users/gusta/Documents/KTH/TriOptima/trioptima/0.Code/2.Cash_RIsk.ipynb#W6sZmlsZQ%3D%3D?line=67'>68</a>\u001b[0m df[\u001b[39m'\u001b[39m\u001b[39mdiscountedCashFlows\u001b[39m\u001b[39m'\u001b[39m] \u001b[39m=\u001b[39m df\u001b[39m.\u001b[39mapply(\u001b[39mlambda\u001b[39;00m row: calculate_discounted_cashflow(row, \u001b[39m'\u001b[39m\u001b[39mleg1FixedRate\u001b[39m\u001b[39m'\u001b[39m, \u001b[39m'\u001b[39m\u001b[39mleg1NotionalAmount\u001b[39m\u001b[39m'\u001b[39m), axis\u001b[39m=\u001b[39m\u001b[39m1\u001b[39m)\n\u001b[1;32m---> <a href='vscode-notebook-cell:/c%3A/Users/gusta/Documents/KTH/TriOptima/trioptima/0.Code/2.Cash_RIsk.ipynb#W6sZmlsZQ%3D%3D?line=68'>69</a>\u001b[0m df[\u001b[39m'\u001b[39m\u001b[39mdiscountedCashFlows\u001b[39m\u001b[39m'\u001b[39m] \u001b[39m=\u001b[39m df\u001b[39m.\u001b[39;49mapply(\u001b[39mlambda\u001b[39;49;00m row: calculate_discounted_cashflow(row, \u001b[39m'\u001b[39;49m\u001b[39mleg2FloatRate\u001b[39;49m\u001b[39m'\u001b[39;49m, \u001b[39m'\u001b[39;49m\u001b[39mleg2NotionalAmount\u001b[39;49m\u001b[39m'\u001b[39;49m), axis\u001b[39m=\u001b[39;49m\u001b[39m1\u001b[39;49m)\n\u001b[0;32m     <a href='vscode-notebook-cell:/c%3A/Users/gusta/Documents/KTH/TriOptima/trioptima/0.Code/2.Cash_RIsk.ipynb#W6sZmlsZQ%3D%3D?line=69'>70</a>\u001b[0m df\u001b[39m.\u001b[39mdrop(columns\u001b[39m=\u001b[39m[\u001b[39m'\u001b[39m\u001b[39mcashflow_dates\u001b[39m\u001b[39m'\u001b[39m], inplace\u001b[39m=\u001b[39m\u001b[39mTrue\u001b[39;00m)\n\u001b[0;32m     <a href='vscode-notebook-cell:/c%3A/Users/gusta/Documents/KTH/TriOptima/trioptima/0.Code/2.Cash_RIsk.ipynb#W6sZmlsZQ%3D%3D?line=70'>71</a>\u001b[0m df\u001b[39m.\u001b[39mto_csv(your_path \u001b[39m+\u001b[39m \u001b[39m'\u001b[39m\u001b[39mcashflow.csv\u001b[39m\u001b[39m'\u001b[39m, index\u001b[39m=\u001b[39m\u001b[39mFalse\u001b[39;00m)\n",
      "File \u001b[1;32mc:\\Users\\gusta\\AppData\\Local\\Programs\\Python\\Python311\\Lib\\site-packages\\pandas\\core\\frame.py:10037\u001b[0m, in \u001b[0;36mDataFrame.apply\u001b[1;34m(self, func, axis, raw, result_type, args, by_row, **kwargs)\u001b[0m\n\u001b[0;32m  10025\u001b[0m \u001b[39mfrom\u001b[39;00m \u001b[39mpandas\u001b[39;00m\u001b[39m.\u001b[39;00m\u001b[39mcore\u001b[39;00m\u001b[39m.\u001b[39;00m\u001b[39mapply\u001b[39;00m \u001b[39mimport\u001b[39;00m frame_apply\n\u001b[0;32m  10027\u001b[0m op \u001b[39m=\u001b[39m frame_apply(\n\u001b[0;32m  10028\u001b[0m     \u001b[39mself\u001b[39m,\n\u001b[0;32m  10029\u001b[0m     func\u001b[39m=\u001b[39mfunc,\n\u001b[1;32m   (...)\u001b[0m\n\u001b[0;32m  10035\u001b[0m     kwargs\u001b[39m=\u001b[39mkwargs,\n\u001b[0;32m  10036\u001b[0m )\n\u001b[1;32m> 10037\u001b[0m \u001b[39mreturn\u001b[39;00m op\u001b[39m.\u001b[39;49mapply()\u001b[39m.\u001b[39m__finalize__(\u001b[39mself\u001b[39m, method\u001b[39m=\u001b[39m\u001b[39m\"\u001b[39m\u001b[39mapply\u001b[39m\u001b[39m\"\u001b[39m)\n",
      "File \u001b[1;32mc:\\Users\\gusta\\AppData\\Local\\Programs\\Python\\Python311\\Lib\\site-packages\\pandas\\core\\apply.py:837\u001b[0m, in \u001b[0;36mFrameApply.apply\u001b[1;34m(self)\u001b[0m\n\u001b[0;32m    834\u001b[0m \u001b[39melif\u001b[39;00m \u001b[39mself\u001b[39m\u001b[39m.\u001b[39mraw:\n\u001b[0;32m    835\u001b[0m     \u001b[39mreturn\u001b[39;00m \u001b[39mself\u001b[39m\u001b[39m.\u001b[39mapply_raw()\n\u001b[1;32m--> 837\u001b[0m \u001b[39mreturn\u001b[39;00m \u001b[39mself\u001b[39;49m\u001b[39m.\u001b[39;49mapply_standard()\n",
      "File \u001b[1;32mc:\\Users\\gusta\\AppData\\Local\\Programs\\Python\\Python311\\Lib\\site-packages\\pandas\\core\\apply.py:963\u001b[0m, in \u001b[0;36mFrameApply.apply_standard\u001b[1;34m(self)\u001b[0m\n\u001b[0;32m    962\u001b[0m \u001b[39mdef\u001b[39;00m \u001b[39mapply_standard\u001b[39m(\u001b[39mself\u001b[39m):\n\u001b[1;32m--> 963\u001b[0m     results, res_index \u001b[39m=\u001b[39m \u001b[39mself\u001b[39;49m\u001b[39m.\u001b[39;49mapply_series_generator()\n\u001b[0;32m    965\u001b[0m     \u001b[39m# wrap results\u001b[39;00m\n\u001b[0;32m    966\u001b[0m     \u001b[39mreturn\u001b[39;00m \u001b[39mself\u001b[39m\u001b[39m.\u001b[39mwrap_results(results, res_index)\n",
      "File \u001b[1;32mc:\\Users\\gusta\\AppData\\Local\\Programs\\Python\\Python311\\Lib\\site-packages\\pandas\\core\\apply.py:979\u001b[0m, in \u001b[0;36mFrameApply.apply_series_generator\u001b[1;34m(self)\u001b[0m\n\u001b[0;32m    976\u001b[0m \u001b[39mwith\u001b[39;00m option_context(\u001b[39m\"\u001b[39m\u001b[39mmode.chained_assignment\u001b[39m\u001b[39m\"\u001b[39m, \u001b[39mNone\u001b[39;00m):\n\u001b[0;32m    977\u001b[0m     \u001b[39mfor\u001b[39;00m i, v \u001b[39min\u001b[39;00m \u001b[39menumerate\u001b[39m(series_gen):\n\u001b[0;32m    978\u001b[0m         \u001b[39m# ignore SettingWithCopy here in case the user mutates\u001b[39;00m\n\u001b[1;32m--> 979\u001b[0m         results[i] \u001b[39m=\u001b[39m \u001b[39mself\u001b[39;49m\u001b[39m.\u001b[39;49mfunc(v, \u001b[39m*\u001b[39;49m\u001b[39mself\u001b[39;49m\u001b[39m.\u001b[39;49margs, \u001b[39m*\u001b[39;49m\u001b[39m*\u001b[39;49m\u001b[39mself\u001b[39;49m\u001b[39m.\u001b[39;49mkwargs)\n\u001b[0;32m    980\u001b[0m         \u001b[39mif\u001b[39;00m \u001b[39misinstance\u001b[39m(results[i], ABCSeries):\n\u001b[0;32m    981\u001b[0m             \u001b[39m# If we have a view on v, we need to make a copy because\u001b[39;00m\n\u001b[0;32m    982\u001b[0m             \u001b[39m#  series_generator will swap out the underlying data\u001b[39;00m\n\u001b[0;32m    983\u001b[0m             results[i] \u001b[39m=\u001b[39m results[i]\u001b[39m.\u001b[39mcopy(deep\u001b[39m=\u001b[39m\u001b[39mFalse\u001b[39;00m)\n",
      "\u001b[1;32mc:\\Users\\gusta\\Documents\\KTH\\TriOptima\\trioptima\\0.Code\\2.Cash_RIsk.ipynb Cell 5\u001b[0m line \u001b[0;36m6\n\u001b[0;32m     <a href='vscode-notebook-cell:/c%3A/Users/gusta/Documents/KTH/TriOptima/trioptima/0.Code/2.Cash_RIsk.ipynb#W6sZmlsZQ%3D%3D?line=65'>66</a>\u001b[0m     \u001b[39mreturn\u001b[39;00m total_discounted_cashflow\n\u001b[0;32m     <a href='vscode-notebook-cell:/c%3A/Users/gusta/Documents/KTH/TriOptima/trioptima/0.Code/2.Cash_RIsk.ipynb#W6sZmlsZQ%3D%3D?line=67'>68</a>\u001b[0m df[\u001b[39m'\u001b[39m\u001b[39mdiscountedCashFlows\u001b[39m\u001b[39m'\u001b[39m] \u001b[39m=\u001b[39m df\u001b[39m.\u001b[39mapply(\u001b[39mlambda\u001b[39;00m row: calculate_discounted_cashflow(row, \u001b[39m'\u001b[39m\u001b[39mleg1FixedRate\u001b[39m\u001b[39m'\u001b[39m, \u001b[39m'\u001b[39m\u001b[39mleg1NotionalAmount\u001b[39m\u001b[39m'\u001b[39m), axis\u001b[39m=\u001b[39m\u001b[39m1\u001b[39m)\n\u001b[1;32m---> <a href='vscode-notebook-cell:/c%3A/Users/gusta/Documents/KTH/TriOptima/trioptima/0.Code/2.Cash_RIsk.ipynb#W6sZmlsZQ%3D%3D?line=68'>69</a>\u001b[0m df[\u001b[39m'\u001b[39m\u001b[39mdiscountedCashFlows\u001b[39m\u001b[39m'\u001b[39m] \u001b[39m=\u001b[39m df\u001b[39m.\u001b[39mapply(\u001b[39mlambda\u001b[39;00m row: calculate_discounted_cashflow(row, \u001b[39m'\u001b[39;49m\u001b[39mleg2FloatRate\u001b[39;49m\u001b[39m'\u001b[39;49m, \u001b[39m'\u001b[39;49m\u001b[39mleg2NotionalAmount\u001b[39;49m\u001b[39m'\u001b[39;49m), axis\u001b[39m=\u001b[39m\u001b[39m1\u001b[39m)\n\u001b[0;32m     <a href='vscode-notebook-cell:/c%3A/Users/gusta/Documents/KTH/TriOptima/trioptima/0.Code/2.Cash_RIsk.ipynb#W6sZmlsZQ%3D%3D?line=69'>70</a>\u001b[0m df\u001b[39m.\u001b[39mdrop(columns\u001b[39m=\u001b[39m[\u001b[39m'\u001b[39m\u001b[39mcashflow_dates\u001b[39m\u001b[39m'\u001b[39m], inplace\u001b[39m=\u001b[39m\u001b[39mTrue\u001b[39;00m)\n\u001b[0;32m     <a href='vscode-notebook-cell:/c%3A/Users/gusta/Documents/KTH/TriOptima/trioptima/0.Code/2.Cash_RIsk.ipynb#W6sZmlsZQ%3D%3D?line=70'>71</a>\u001b[0m df\u001b[39m.\u001b[39mto_csv(your_path \u001b[39m+\u001b[39m \u001b[39m'\u001b[39m\u001b[39mcashflow.csv\u001b[39m\u001b[39m'\u001b[39m, index\u001b[39m=\u001b[39m\u001b[39mFalse\u001b[39;00m)\n",
      "\u001b[1;32mc:\\Users\\gusta\\Documents\\KTH\\TriOptima\\trioptima\\0.Code\\2.Cash_RIsk.ipynb Cell 5\u001b[0m line \u001b[0;36m5\n\u001b[0;32m     <a href='vscode-notebook-cell:/c%3A/Users/gusta/Documents/KTH/TriOptima/trioptima/0.Code/2.Cash_RIsk.ipynb#W6sZmlsZQ%3D%3D?line=55'>56</a>\u001b[0m total_discounted_cashflow \u001b[39m=\u001b[39m \u001b[39m0\u001b[39m\n\u001b[0;32m     <a href='vscode-notebook-cell:/c%3A/Users/gusta/Documents/KTH/TriOptima/trioptima/0.Code/2.Cash_RIsk.ipynb#W6sZmlsZQ%3D%3D?line=57'>58</a>\u001b[0m \u001b[39mfor\u001b[39;00m date \u001b[39min\u001b[39;00m row[\u001b[39m'\u001b[39m\u001b[39mcashflow_dates\u001b[39m\u001b[39m'\u001b[39m]:\n\u001b[1;32m---> <a href='vscode-notebook-cell:/c%3A/Users/gusta/Documents/KTH/TriOptima/trioptima/0.Code/2.Cash_RIsk.ipynb#W6sZmlsZQ%3D%3D?line=58'>59</a>\u001b[0m     cashflow \u001b[39m=\u001b[39m row[notional] \u001b[39m*\u001b[39m row[rate]\n\u001b[0;32m     <a href='vscode-notebook-cell:/c%3A/Users/gusta/Documents/KTH/TriOptima/trioptima/0.Code/2.Cash_RIsk.ipynb#W6sZmlsZQ%3D%3D?line=59'>60</a>\u001b[0m     \u001b[39m# Calculate time difference in years for discounting\u001b[39;00m\n\u001b[0;32m     <a href='vscode-notebook-cell:/c%3A/Users/gusta/Documents/KTH/TriOptima/trioptima/0.Code/2.Cash_RIsk.ipynb#W6sZmlsZQ%3D%3D?line=60'>61</a>\u001b[0m     time_difference \u001b[39m=\u001b[39m (date \u001b[39m-\u001b[39m datetime\u001b[39m.\u001b[39mnow())\u001b[39m.\u001b[39mdays \u001b[39m/\u001b[39m \u001b[39m365.0\u001b[39m\n",
      "File \u001b[1;32mc:\\Users\\gusta\\AppData\\Local\\Programs\\Python\\Python311\\Lib\\site-packages\\pandas\\core\\series.py:1040\u001b[0m, in \u001b[0;36mSeries.__getitem__\u001b[1;34m(self, key)\u001b[0m\n\u001b[0;32m   1037\u001b[0m     \u001b[39mreturn\u001b[39;00m \u001b[39mself\u001b[39m\u001b[39m.\u001b[39m_values[key]\n\u001b[0;32m   1039\u001b[0m \u001b[39melif\u001b[39;00m key_is_scalar:\n\u001b[1;32m-> 1040\u001b[0m     \u001b[39mreturn\u001b[39;00m \u001b[39mself\u001b[39;49m\u001b[39m.\u001b[39;49m_get_value(key)\n\u001b[0;32m   1042\u001b[0m \u001b[39m# Convert generator to list before going through hashable part\u001b[39;00m\n\u001b[0;32m   1043\u001b[0m \u001b[39m# (We will iterate through the generator there to check for slices)\u001b[39;00m\n\u001b[0;32m   1044\u001b[0m \u001b[39mif\u001b[39;00m is_iterator(key):\n",
      "File \u001b[1;32mc:\\Users\\gusta\\AppData\\Local\\Programs\\Python\\Python311\\Lib\\site-packages\\pandas\\core\\series.py:1156\u001b[0m, in \u001b[0;36mSeries._get_value\u001b[1;34m(self, label, takeable)\u001b[0m\n\u001b[0;32m   1153\u001b[0m     \u001b[39mreturn\u001b[39;00m \u001b[39mself\u001b[39m\u001b[39m.\u001b[39m_values[label]\n\u001b[0;32m   1155\u001b[0m \u001b[39m# Similar to Index.get_value, but we do not fall back to positional\u001b[39;00m\n\u001b[1;32m-> 1156\u001b[0m loc \u001b[39m=\u001b[39m \u001b[39mself\u001b[39;49m\u001b[39m.\u001b[39;49mindex\u001b[39m.\u001b[39;49mget_loc(label)\n\u001b[0;32m   1158\u001b[0m \u001b[39mif\u001b[39;00m is_integer(loc):\n\u001b[0;32m   1159\u001b[0m     \u001b[39mreturn\u001b[39;00m \u001b[39mself\u001b[39m\u001b[39m.\u001b[39m_values[loc]\n",
      "File \u001b[1;32mc:\\Users\\gusta\\AppData\\Local\\Programs\\Python\\Python311\\Lib\\site-packages\\pandas\\core\\indexes\\base.py:3797\u001b[0m, in \u001b[0;36mIndex.get_loc\u001b[1;34m(self, key)\u001b[0m\n\u001b[0;32m   3792\u001b[0m     \u001b[39mif\u001b[39;00m \u001b[39misinstance\u001b[39m(casted_key, \u001b[39mslice\u001b[39m) \u001b[39mor\u001b[39;00m (\n\u001b[0;32m   3793\u001b[0m         \u001b[39misinstance\u001b[39m(casted_key, abc\u001b[39m.\u001b[39mIterable)\n\u001b[0;32m   3794\u001b[0m         \u001b[39mand\u001b[39;00m \u001b[39many\u001b[39m(\u001b[39misinstance\u001b[39m(x, \u001b[39mslice\u001b[39m) \u001b[39mfor\u001b[39;00m x \u001b[39min\u001b[39;00m casted_key)\n\u001b[0;32m   3795\u001b[0m     ):\n\u001b[0;32m   3796\u001b[0m         \u001b[39mraise\u001b[39;00m InvalidIndexError(key)\n\u001b[1;32m-> 3797\u001b[0m     \u001b[39mraise\u001b[39;00m \u001b[39mKeyError\u001b[39;00m(key) \u001b[39mfrom\u001b[39;00m \u001b[39merr\u001b[39;00m\n\u001b[0;32m   3798\u001b[0m \u001b[39mexcept\u001b[39;00m \u001b[39mTypeError\u001b[39;00m:\n\u001b[0;32m   3799\u001b[0m     \u001b[39m# If we have a listlike key, _check_indexing_error will raise\u001b[39;00m\n\u001b[0;32m   3800\u001b[0m     \u001b[39m#  InvalidIndexError. Otherwise we fall through and re-raise\u001b[39;00m\n\u001b[0;32m   3801\u001b[0m     \u001b[39m#  the TypeError.\u001b[39;00m\n\u001b[0;32m   3802\u001b[0m     \u001b[39mself\u001b[39m\u001b[39m.\u001b[39m_check_indexing_error(key)\n",
      "\u001b[1;31mKeyError\u001b[0m: 'leg2FloatRate'"
     ]
    }
   ],
   "source": [
    "import pandas as pd\n",
    "from datetime import datetime, timedelta\n",
    "from dateutil.relativedelta import relativedelta\n",
    "\n",
    "\n",
    "df = pd.DataFrame(filtered_data)\n",
    "\n",
    "\n",
    "# Convert date columns to datetime type\n",
    "df['effectiveDate'] = pd.to_datetime(df['effectiveDate'])\n",
    "df['expirationDate'] = pd.to_datetime(df['expirationDate'])\n",
    "\n",
    "\n",
    "def calculate_cashflows(row, period, freq):\n",
    "    cashflows = []\n",
    "    \n",
    "    start_date = row['effectiveDate']\n",
    "    end_date = row['expirationDate']\n",
    "    # Calculate the payment frequency in days\n",
    "    if row[period] == 'MNTH':\n",
    "        delta = relativedelta(months=row[freq])\n",
    "    elif row[period] == 'YEAR':\n",
    "        delta = relativedelta(years=row[freq])\n",
    "    \n",
    "    elif row[period] == 'DAIL':\n",
    "        delta = timedelta(days=row[freq])\n",
    "\n",
    "    else:\n",
    "        raise ValueError(f\"Unknown frequency period: {row[period]}\")\n",
    "    \n",
    "    while start_date < end_date:\n",
    "        cashflows.append(start_date)\n",
    "        start_date += delta\n",
    "\n",
    "    return cashflows\n",
    "\n",
    "\n",
    "df['cashflow_dates'] = df.apply(\n",
    "    lambda row: \n",
    "        calculate_cashflows(row, 'leg1FixedRatePaymentFrequencyPeriod', 'leg1FixedRatePaymentFrequencyMultiplier') \n",
    "        if row['leg1UnderlyingAssetOrContractType'] == 'Fixed-Floating' \n",
    "        else (calculate_cashflows(row, 'leg2UnderlierTenorPeriod', 'leg2UnderlierTenorMultiplier') \n",
    "              if row['leg1UnderlyingAssetOrContractType'] == 'OIS' \n",
    "              else None), \n",
    "    axis=1)\n",
    "\n",
    "\n",
    "\n",
    "# Define a generic discount rate curve\n",
    "def discount_rate_curve(date):\n",
    "    # Return a constant rate for simplicity, but in practice this can be any function of date\n",
    "    return 0.03\n",
    "\n",
    "# Calculate discounted cashflows\n",
    "def calculate_discounted_cashflow(row, rate, notional):\n",
    "    total_discounted_cashflow = 0\n",
    "    \n",
    "    for date in row['cashflow_dates']:\n",
    "        cashflow = row[notional] * row[rate]\n",
    "        # Calculate time difference in years for discounting\n",
    "        time_difference = (date - datetime.now()).days / 365.0\n",
    "        # Calculate the present value of the cashflow\n",
    "        discounted_cashflow = cashflow / (1 + discount_rate_curve(date))**time_difference\n",
    "        total_discounted_cashflow += discounted_cashflow\n",
    "        \n",
    "    return total_discounted_cashflow\n",
    "\n",
    "df['discountedCashFlows'] = df.apply(lambda row: calculate_discounted_cashflow(row, 'leg1FixedRate', 'leg1NotionalAmount'), axis=1)\n",
    "df['discountedCashFlows'] = df.apply(lambda row: calculate_discounted_cashflow(row, 'leg2FloatRate', 'leg2NotionalAmount'), axis=1)\n",
    "df.drop(columns=['cashflow_dates'], inplace=True)\n",
    "df.to_csv(your_path + 'cashflow.csv', index=False)\n",
    "\n",
    "\n",
    "# This DataFrame now contains cashflow dates and their respective discounted cashflows for each trade\n",
    "#print(df[['cashflow_dates', 'discounted_cashflows']])\n"
   ]
  },
  {
   "cell_type": "markdown",
   "metadata": {},
   "source": [
    "Risk"
   ]
  },
  {
   "cell_type": "code",
   "execution_count": null,
   "metadata": {},
   "outputs": [],
   "source": []
  }
 ],
 "metadata": {
  "kernelspec": {
   "display_name": "Python 3",
   "language": "python",
   "name": "python3"
  },
  "language_info": {
   "codemirror_mode": {
    "name": "ipython",
    "version": 3
   },
   "file_extension": ".py",
   "mimetype": "text/x-python",
   "name": "python",
   "nbconvert_exporter": "python",
   "pygments_lexer": "ipython3",
   "version": "3.11.6"
  },
  "orig_nbformat": 4
 },
 "nbformat": 4,
 "nbformat_minor": 2
}
