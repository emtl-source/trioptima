{
 "cells": [
  {
   "cell_type": "markdown",
   "metadata": {},
   "source": [
    "CashFlow"
   ]
  },
  {
   "cell_type": "markdown",
   "metadata": {},
   "source": [
    "Adds currency and asset type filters"
   ]
  },
  {
   "cell_type": "code",
   "execution_count": 1,
   "metadata": {},
   "outputs": [
    {
     "name": "stdout",
     "output_type": "stream",
     "text": [
      "['USD-LIBOR-BBA' 'EUR-EURIBOR' 'USD-Federal Funds-H.15-OIS-COMPOUND'\n",
      " 'EUR-EuroSTR-OIS Compound' 'GBP-SONIA-OIS Compound'\n",
      " 'USD-SOFR-OIS Compound' 'USD-SOFR-1M']\n",
      "7\n"
     ]
    }
   ],
   "source": [
    "import pandas as pd\n",
    "import os\n",
    "\n",
    "#r'C:\\Users\\gusta\\Documents\\KTH\\TriOptima\\trioptima\\'\n",
    "#'/Users/elliotlindestam/Documents/Skola/Indek icloud/trioptima/'\n",
    "your_path = r'/Users/elliotlindestam/Documents/Skola/Indek icloud/trioptima/'\n",
    "folder_path = your_path + '6.Active Data/Train Model Data/'\n",
    "# Get file in the folder\n",
    "files = os.listdir(folder_path)\n",
    "# MAC issue\n",
    "files = [f for f in files if f != '.DS_Store']\n",
    "data_file = files[0][:-4]\n",
    "\n",
    "# Load the data\n",
    "data = pd.read_csv(your_path + \"2.Cleaned/\" + data_file +'_Cleaned.csv')\n",
    "\n",
    "# Filter trades based on conditions\n",
    "filtered_data = data[\n",
    "    (data['leg1NotionalCurrency'].isin(['EUR', 'USD', 'GBP'])) & \n",
    "    (data['leg1UnderlyingAssetOrContractType'].isin(['Fixed-Floating', 'OIS']))\n",
    "]\n",
    "\n",
    "print(filtered_data['leg2UnderlierID'].unique())\n",
    "print(len(filtered_data['leg2UnderlierID'].unique()))\n",
    "\n",
    "\n",
    "\n"
   ]
  },
  {
   "cell_type": "markdown",
   "metadata": {},
   "source": [
    "Calculates discounted cashflows for Fixed-Floating and OIS"
   ]
  },
  {
   "cell_type": "code",
   "execution_count": 9,
   "metadata": {},
   "outputs": [
    {
     "name": "stderr",
     "output_type": "stream",
     "text": [
      "/var/folders/rq/30rpw85n53d2zxnt_c5qnrx40000gn/T/ipykernel_80351/432880960.py:12: UserWarning: Could not infer format, so each element will be parsed individually, falling back to `dateutil`. To ensure parsing is consistent and as-expected, please specify a format.\n",
      "  df['effectiveDate'] = pd.to_datetime(df['effectiveDate'])\n",
      "/var/folders/rq/30rpw85n53d2zxnt_c5qnrx40000gn/T/ipykernel_80351/432880960.py:13: UserWarning: Could not infer format, so each element will be parsed individually, falling back to `dateutil`. To ensure parsing is consistent and as-expected, please specify a format.\n",
      "  df['expirationDate'] = pd.to_datetime(df['expirationDate'])\n",
      "/var/folders/rq/30rpw85n53d2zxnt_c5qnrx40000gn/T/ipykernel_80351/432880960.py:22: UserWarning: Could not infer format, so each element will be parsed individually, falling back to `dateutil`. To ensure parsing is consistent and as-expected, please specify a format.\n",
      "  df['effectiveDate'] = pd.to_datetime(df['effectiveDate'])\n",
      "/var/folders/rq/30rpw85n53d2zxnt_c5qnrx40000gn/T/ipykernel_80351/432880960.py:23: UserWarning: Could not infer format, so each element will be parsed individually, falling back to `dateutil`. To ensure parsing is consistent and as-expected, please specify a format.\n",
      "  df['expirationDate'] = pd.to_datetime(df['expirationDate'])\n"
     ]
    },
    {
     "ename": "KeyError",
     "evalue": "121",
     "output_type": "error",
     "traceback": [
      "\u001b[0;31m---------------------------------------------------------------------------\u001b[0m",
      "\u001b[0;31mKeyError\u001b[0m                                  Traceback (most recent call last)",
      "File \u001b[0;32m/Library/Frameworks/Python.framework/Versions/3.10/lib/python3.10/site-packages/pandas/core/indexes/base.py:3790\u001b[0m, in \u001b[0;36mIndex.get_loc\u001b[0;34m(self, key)\u001b[0m\n\u001b[1;32m   3789\u001b[0m \u001b[39mtry\u001b[39;00m:\n\u001b[0;32m-> 3790\u001b[0m     \u001b[39mreturn\u001b[39;00m \u001b[39mself\u001b[39;49m\u001b[39m.\u001b[39;49m_engine\u001b[39m.\u001b[39;49mget_loc(casted_key)\n\u001b[1;32m   3791\u001b[0m \u001b[39mexcept\u001b[39;00m \u001b[39mKeyError\u001b[39;00m \u001b[39mas\u001b[39;00m err:\n",
      "File \u001b[0;32mindex.pyx:152\u001b[0m, in \u001b[0;36mpandas._libs.index.IndexEngine.get_loc\u001b[0;34m()\u001b[0m\n",
      "File \u001b[0;32mindex.pyx:181\u001b[0m, in \u001b[0;36mpandas._libs.index.IndexEngine.get_loc\u001b[0;34m()\u001b[0m\n",
      "File \u001b[0;32mpandas/_libs/hashtable_class_helper.pxi:2606\u001b[0m, in \u001b[0;36mpandas._libs.hashtable.Int64HashTable.get_item\u001b[0;34m()\u001b[0m\n",
      "File \u001b[0;32mpandas/_libs/hashtable_class_helper.pxi:2630\u001b[0m, in \u001b[0;36mpandas._libs.hashtable.Int64HashTable.get_item\u001b[0;34m()\u001b[0m\n",
      "\u001b[0;31mKeyError\u001b[0m: 121",
      "\nThe above exception was the direct cause of the following exception:\n",
      "\u001b[0;31mKeyError\u001b[0m                                  Traceback (most recent call last)",
      "\u001b[1;32m/Users/elliotlindestam/Documents/Skola/Indek icloud/trioptima/0.Code/2.Cash_RIsk.ipynb Cell 5\u001b[0m line \u001b[0;36m9\n\u001b[1;32m     <a href='vscode-notebook-cell:/Users/elliotlindestam/Documents/Skola/Indek%20icloud/trioptima/0.Code/2.Cash_RIsk.ipynb#X10sZmlsZQ%3D%3D?line=89'>90</a>\u001b[0m     \u001b[39mreturn\u001b[39;00m total_discounted_cashflow\n\u001b[1;32m     <a href='vscode-notebook-cell:/Users/elliotlindestam/Documents/Skola/Indek%20icloud/trioptima/0.Code/2.Cash_RIsk.ipynb#X10sZmlsZQ%3D%3D?line=91'>92</a>\u001b[0m df[\u001b[39m'\u001b[39m\u001b[39mMtM_leg1\u001b[39m\u001b[39m'\u001b[39m] \u001b[39m=\u001b[39m df\u001b[39m.\u001b[39mapply(\u001b[39mlambda\u001b[39;00m row: calculate_discounted_cashflow(row, \u001b[39m'\u001b[39m\u001b[39mfixed\u001b[39m\u001b[39m'\u001b[39m), axis\u001b[39m=\u001b[39m\u001b[39m1\u001b[39m)\n\u001b[0;32m---> <a href='vscode-notebook-cell:/Users/elliotlindestam/Documents/Skola/Indek%20icloud/trioptima/0.Code/2.Cash_RIsk.ipynb#X10sZmlsZQ%3D%3D?line=92'>93</a>\u001b[0m df[\u001b[39m'\u001b[39m\u001b[39mMtM_leg2\u001b[39m\u001b[39m'\u001b[39m] \u001b[39m=\u001b[39m df\u001b[39m.\u001b[39;49mapply(\u001b[39mlambda\u001b[39;49;00m row: calculate_discounted_cashflow(row, \u001b[39m'\u001b[39;49m\u001b[39mfloat\u001b[39;49m\u001b[39m'\u001b[39;49m), axis\u001b[39m=\u001b[39;49m\u001b[39m1\u001b[39;49m)\n\u001b[1;32m     <a href='vscode-notebook-cell:/Users/elliotlindestam/Documents/Skola/Indek%20icloud/trioptima/0.Code/2.Cash_RIsk.ipynb#X10sZmlsZQ%3D%3D?line=94'>95</a>\u001b[0m df\u001b[39m.\u001b[39mdrop(columns\u001b[39m=\u001b[39m[\u001b[39m'\u001b[39m\u001b[39mcashflow_dates\u001b[39m\u001b[39m'\u001b[39m], inplace\u001b[39m=\u001b[39m\u001b[39mTrue\u001b[39;00m)\n\u001b[1;32m    <a href='vscode-notebook-cell:/Users/elliotlindestam/Documents/Skola/Indek%20icloud/trioptima/0.Code/2.Cash_RIsk.ipynb#X10sZmlsZQ%3D%3D?line=99'>100</a>\u001b[0m df\u001b[39m.\u001b[39mdrop(columns\u001b[39m=\u001b[39m[\u001b[39m'\u001b[39m\u001b[39mcashflow_dates\u001b[39m\u001b[39m'\u001b[39m], inplace\u001b[39m=\u001b[39m\u001b[39mTrue\u001b[39;00m)\n",
      "File \u001b[0;32m/Library/Frameworks/Python.framework/Versions/3.10/lib/python3.10/site-packages/pandas/core/frame.py:10037\u001b[0m, in \u001b[0;36mDataFrame.apply\u001b[0;34m(self, func, axis, raw, result_type, args, by_row, **kwargs)\u001b[0m\n\u001b[1;32m  10025\u001b[0m \u001b[39mfrom\u001b[39;00m \u001b[39mpandas\u001b[39;00m\u001b[39m.\u001b[39;00m\u001b[39mcore\u001b[39;00m\u001b[39m.\u001b[39;00m\u001b[39mapply\u001b[39;00m \u001b[39mimport\u001b[39;00m frame_apply\n\u001b[1;32m  10027\u001b[0m op \u001b[39m=\u001b[39m frame_apply(\n\u001b[1;32m  10028\u001b[0m     \u001b[39mself\u001b[39m,\n\u001b[1;32m  10029\u001b[0m     func\u001b[39m=\u001b[39mfunc,\n\u001b[0;32m   (...)\u001b[0m\n\u001b[1;32m  10035\u001b[0m     kwargs\u001b[39m=\u001b[39mkwargs,\n\u001b[1;32m  10036\u001b[0m )\n\u001b[0;32m> 10037\u001b[0m \u001b[39mreturn\u001b[39;00m op\u001b[39m.\u001b[39;49mapply()\u001b[39m.\u001b[39m__finalize__(\u001b[39mself\u001b[39m, method\u001b[39m=\u001b[39m\u001b[39m\"\u001b[39m\u001b[39mapply\u001b[39m\u001b[39m\"\u001b[39m)\n",
      "File \u001b[0;32m/Library/Frameworks/Python.framework/Versions/3.10/lib/python3.10/site-packages/pandas/core/apply.py:837\u001b[0m, in \u001b[0;36mFrameApply.apply\u001b[0;34m(self)\u001b[0m\n\u001b[1;32m    834\u001b[0m \u001b[39melif\u001b[39;00m \u001b[39mself\u001b[39m\u001b[39m.\u001b[39mraw:\n\u001b[1;32m    835\u001b[0m     \u001b[39mreturn\u001b[39;00m \u001b[39mself\u001b[39m\u001b[39m.\u001b[39mapply_raw()\n\u001b[0;32m--> 837\u001b[0m \u001b[39mreturn\u001b[39;00m \u001b[39mself\u001b[39;49m\u001b[39m.\u001b[39;49mapply_standard()\n",
      "File \u001b[0;32m/Library/Frameworks/Python.framework/Versions/3.10/lib/python3.10/site-packages/pandas/core/apply.py:963\u001b[0m, in \u001b[0;36mFrameApply.apply_standard\u001b[0;34m(self)\u001b[0m\n\u001b[1;32m    962\u001b[0m \u001b[39mdef\u001b[39;00m \u001b[39mapply_standard\u001b[39m(\u001b[39mself\u001b[39m):\n\u001b[0;32m--> 963\u001b[0m     results, res_index \u001b[39m=\u001b[39m \u001b[39mself\u001b[39;49m\u001b[39m.\u001b[39;49mapply_series_generator()\n\u001b[1;32m    965\u001b[0m     \u001b[39m# wrap results\u001b[39;00m\n\u001b[1;32m    966\u001b[0m     \u001b[39mreturn\u001b[39;00m \u001b[39mself\u001b[39m\u001b[39m.\u001b[39mwrap_results(results, res_index)\n",
      "File \u001b[0;32m/Library/Frameworks/Python.framework/Versions/3.10/lib/python3.10/site-packages/pandas/core/apply.py:979\u001b[0m, in \u001b[0;36mFrameApply.apply_series_generator\u001b[0;34m(self)\u001b[0m\n\u001b[1;32m    976\u001b[0m \u001b[39mwith\u001b[39;00m option_context(\u001b[39m\"\u001b[39m\u001b[39mmode.chained_assignment\u001b[39m\u001b[39m\"\u001b[39m, \u001b[39mNone\u001b[39;00m):\n\u001b[1;32m    977\u001b[0m     \u001b[39mfor\u001b[39;00m i, v \u001b[39min\u001b[39;00m \u001b[39menumerate\u001b[39m(series_gen):\n\u001b[1;32m    978\u001b[0m         \u001b[39m# ignore SettingWithCopy here in case the user mutates\u001b[39;00m\n\u001b[0;32m--> 979\u001b[0m         results[i] \u001b[39m=\u001b[39m \u001b[39mself\u001b[39;49m\u001b[39m.\u001b[39;49mfunc(v, \u001b[39m*\u001b[39;49m\u001b[39mself\u001b[39;49m\u001b[39m.\u001b[39;49margs, \u001b[39m*\u001b[39;49m\u001b[39m*\u001b[39;49m\u001b[39mself\u001b[39;49m\u001b[39m.\u001b[39;49mkwargs)\n\u001b[1;32m    980\u001b[0m         \u001b[39mif\u001b[39;00m \u001b[39misinstance\u001b[39m(results[i], ABCSeries):\n\u001b[1;32m    981\u001b[0m             \u001b[39m# If we have a view on v, we need to make a copy because\u001b[39;00m\n\u001b[1;32m    982\u001b[0m             \u001b[39m#  series_generator will swap out the underlying data\u001b[39;00m\n\u001b[1;32m    983\u001b[0m             results[i] \u001b[39m=\u001b[39m results[i]\u001b[39m.\u001b[39mcopy(deep\u001b[39m=\u001b[39m\u001b[39mFalse\u001b[39;00m)\n",
      "\u001b[1;32m/Users/elliotlindestam/Documents/Skola/Indek icloud/trioptima/0.Code/2.Cash_RIsk.ipynb Cell 5\u001b[0m line \u001b[0;36m9\n\u001b[1;32m     <a href='vscode-notebook-cell:/Users/elliotlindestam/Documents/Skola/Indek%20icloud/trioptima/0.Code/2.Cash_RIsk.ipynb#X10sZmlsZQ%3D%3D?line=89'>90</a>\u001b[0m     \u001b[39mreturn\u001b[39;00m total_discounted_cashflow\n\u001b[1;32m     <a href='vscode-notebook-cell:/Users/elliotlindestam/Documents/Skola/Indek%20icloud/trioptima/0.Code/2.Cash_RIsk.ipynb#X10sZmlsZQ%3D%3D?line=91'>92</a>\u001b[0m df[\u001b[39m'\u001b[39m\u001b[39mMtM_leg1\u001b[39m\u001b[39m'\u001b[39m] \u001b[39m=\u001b[39m df\u001b[39m.\u001b[39mapply(\u001b[39mlambda\u001b[39;00m row: calculate_discounted_cashflow(row, \u001b[39m'\u001b[39m\u001b[39mfixed\u001b[39m\u001b[39m'\u001b[39m), axis\u001b[39m=\u001b[39m\u001b[39m1\u001b[39m)\n\u001b[0;32m---> <a href='vscode-notebook-cell:/Users/elliotlindestam/Documents/Skola/Indek%20icloud/trioptima/0.Code/2.Cash_RIsk.ipynb#X10sZmlsZQ%3D%3D?line=92'>93</a>\u001b[0m df[\u001b[39m'\u001b[39m\u001b[39mMtM_leg2\u001b[39m\u001b[39m'\u001b[39m] \u001b[39m=\u001b[39m df\u001b[39m.\u001b[39mapply(\u001b[39mlambda\u001b[39;00m row: calculate_discounted_cashflow(row, \u001b[39m'\u001b[39;49m\u001b[39mfloat\u001b[39;49m\u001b[39m'\u001b[39;49m), axis\u001b[39m=\u001b[39m\u001b[39m1\u001b[39m)\n\u001b[1;32m     <a href='vscode-notebook-cell:/Users/elliotlindestam/Documents/Skola/Indek%20icloud/trioptima/0.Code/2.Cash_RIsk.ipynb#X10sZmlsZQ%3D%3D?line=94'>95</a>\u001b[0m df\u001b[39m.\u001b[39mdrop(columns\u001b[39m=\u001b[39m[\u001b[39m'\u001b[39m\u001b[39mcashflow_dates\u001b[39m\u001b[39m'\u001b[39m], inplace\u001b[39m=\u001b[39m\u001b[39mTrue\u001b[39;00m)\n\u001b[1;32m    <a href='vscode-notebook-cell:/Users/elliotlindestam/Documents/Skola/Indek%20icloud/trioptima/0.Code/2.Cash_RIsk.ipynb#X10sZmlsZQ%3D%3D?line=99'>100</a>\u001b[0m df\u001b[39m.\u001b[39mdrop(columns\u001b[39m=\u001b[39m[\u001b[39m'\u001b[39m\u001b[39mcashflow_dates\u001b[39m\u001b[39m'\u001b[39m], inplace\u001b[39m=\u001b[39m\u001b[39mTrue\u001b[39;00m)\n",
      "\u001b[1;32m/Users/elliotlindestam/Documents/Skola/Indek icloud/trioptima/0.Code/2.Cash_RIsk.ipynb Cell 5\u001b[0m line \u001b[0;36m8\n\u001b[1;32m     <a href='vscode-notebook-cell:/Users/elliotlindestam/Documents/Skola/Indek%20icloud/trioptima/0.Code/2.Cash_RIsk.ipynb#X10sZmlsZQ%3D%3D?line=80'>81</a>\u001b[0m \u001b[39mfor\u001b[39;00m date \u001b[39min\u001b[39;00m row[\u001b[39m'\u001b[39m\u001b[39mcashflow_dates\u001b[39m\u001b[39m'\u001b[39m]:\n\u001b[1;32m     <a href='vscode-notebook-cell:/Users/elliotlindestam/Documents/Skola/Indek%20icloud/trioptima/0.Code/2.Cash_RIsk.ipynb#X10sZmlsZQ%3D%3D?line=81'>82</a>\u001b[0m     \u001b[39mif\u001b[39;00m \u001b[39mtype\u001b[39m \u001b[39m==\u001b[39m \u001b[39m'\u001b[39m\u001b[39mfloat\u001b[39m\u001b[39m'\u001b[39m:\n\u001b[0;32m---> <a href='vscode-notebook-cell:/Users/elliotlindestam/Documents/Skola/Indek%20icloud/trioptima/0.Code/2.Cash_RIsk.ipynb#X10sZmlsZQ%3D%3D?line=82'>83</a>\u001b[0m         float_rate \u001b[39m=\u001b[39m get_floating_rate(months_to_maturity) \u001b[39m/\u001b[39m \u001b[39m100\u001b[39m\n\u001b[1;32m     <a href='vscode-notebook-cell:/Users/elliotlindestam/Documents/Skola/Indek%20icloud/trioptima/0.Code/2.Cash_RIsk.ipynb#X10sZmlsZQ%3D%3D?line=83'>84</a>\u001b[0m         cashflow \u001b[39m=\u001b[39m row[\u001b[39m'\u001b[39m\u001b[39mleg1NotionalAmount\u001b[39m\u001b[39m'\u001b[39m] \u001b[39m*\u001b[39m float_rate\n\u001b[1;32m     <a href='vscode-notebook-cell:/Users/elliotlindestam/Documents/Skola/Indek%20icloud/trioptima/0.Code/2.Cash_RIsk.ipynb#X10sZmlsZQ%3D%3D?line=84'>85</a>\u001b[0m     \u001b[39melse\u001b[39;00m:\n",
      "\u001b[1;32m/Users/elliotlindestam/Documents/Skola/Indek icloud/trioptima/0.Code/2.Cash_RIsk.ipynb Cell 5\u001b[0m line \u001b[0;36m7\n\u001b[1;32m     <a href='vscode-notebook-cell:/Users/elliotlindestam/Documents/Skola/Indek%20icloud/trioptima/0.Code/2.Cash_RIsk.ipynb#X10sZmlsZQ%3D%3D?line=74'>75</a>\u001b[0m \u001b[39mdef\u001b[39;00m \u001b[39mget_floating_rate\u001b[39m(months_to_maturity):\n\u001b[0;32m---> <a href='vscode-notebook-cell:/Users/elliotlindestam/Documents/Skola/Indek%20icloud/trioptima/0.Code/2.Cash_RIsk.ipynb#X10sZmlsZQ%3D%3D?line=75'>76</a>\u001b[0m     \u001b[39mreturn\u001b[39;00m float_rates_df\u001b[39m.\u001b[39;49mset_index(\u001b[39m'\u001b[39;49m\u001b[39mMonthsToMaturity\u001b[39;49m\u001b[39m'\u001b[39;49m)\u001b[39m.\u001b[39;49mreindex(float_rates_df[\u001b[39m'\u001b[39;49m\u001b[39mMonthsToMaturity\u001b[39;49m\u001b[39m'\u001b[39;49m], method\u001b[39m=\u001b[39;49m\u001b[39m'\u001b[39;49m\u001b[39mnearest\u001b[39;49m\u001b[39m'\u001b[39;49m)[\u001b[39m'\u001b[39;49m\u001b[39mRate\u001b[39;49m\u001b[39m'\u001b[39;49m]\u001b[39m.\u001b[39;49mloc[months_to_maturity]\n",
      "File \u001b[0;32m/Library/Frameworks/Python.framework/Versions/3.10/lib/python3.10/site-packages/pandas/core/indexing.py:1153\u001b[0m, in \u001b[0;36m_LocationIndexer.__getitem__\u001b[0;34m(self, key)\u001b[0m\n\u001b[1;32m   1150\u001b[0m axis \u001b[39m=\u001b[39m \u001b[39mself\u001b[39m\u001b[39m.\u001b[39maxis \u001b[39mor\u001b[39;00m \u001b[39m0\u001b[39m\n\u001b[1;32m   1152\u001b[0m maybe_callable \u001b[39m=\u001b[39m com\u001b[39m.\u001b[39mapply_if_callable(key, \u001b[39mself\u001b[39m\u001b[39m.\u001b[39mobj)\n\u001b[0;32m-> 1153\u001b[0m \u001b[39mreturn\u001b[39;00m \u001b[39mself\u001b[39;49m\u001b[39m.\u001b[39;49m_getitem_axis(maybe_callable, axis\u001b[39m=\u001b[39;49maxis)\n",
      "File \u001b[0;32m/Library/Frameworks/Python.framework/Versions/3.10/lib/python3.10/site-packages/pandas/core/indexing.py:1393\u001b[0m, in \u001b[0;36m_LocIndexer._getitem_axis\u001b[0;34m(self, key, axis)\u001b[0m\n\u001b[1;32m   1391\u001b[0m \u001b[39m# fall thru to straight lookup\u001b[39;00m\n\u001b[1;32m   1392\u001b[0m \u001b[39mself\u001b[39m\u001b[39m.\u001b[39m_validate_key(key, axis)\n\u001b[0;32m-> 1393\u001b[0m \u001b[39mreturn\u001b[39;00m \u001b[39mself\u001b[39;49m\u001b[39m.\u001b[39;49m_get_label(key, axis\u001b[39m=\u001b[39;49maxis)\n",
      "File \u001b[0;32m/Library/Frameworks/Python.framework/Versions/3.10/lib/python3.10/site-packages/pandas/core/indexing.py:1343\u001b[0m, in \u001b[0;36m_LocIndexer._get_label\u001b[0;34m(self, label, axis)\u001b[0m\n\u001b[1;32m   1341\u001b[0m \u001b[39mdef\u001b[39;00m \u001b[39m_get_label\u001b[39m(\u001b[39mself\u001b[39m, label, axis: AxisInt):\n\u001b[1;32m   1342\u001b[0m     \u001b[39m# GH#5567 this will fail if the label is not present in the axis.\u001b[39;00m\n\u001b[0;32m-> 1343\u001b[0m     \u001b[39mreturn\u001b[39;00m \u001b[39mself\u001b[39;49m\u001b[39m.\u001b[39;49mobj\u001b[39m.\u001b[39;49mxs(label, axis\u001b[39m=\u001b[39;49maxis)\n",
      "File \u001b[0;32m/Library/Frameworks/Python.framework/Versions/3.10/lib/python3.10/site-packages/pandas/core/generic.py:4236\u001b[0m, in \u001b[0;36mNDFrame.xs\u001b[0;34m(self, key, axis, level, drop_level)\u001b[0m\n\u001b[1;32m   4234\u001b[0m             new_index \u001b[39m=\u001b[39m index[loc]\n\u001b[1;32m   4235\u001b[0m \u001b[39melse\u001b[39;00m:\n\u001b[0;32m-> 4236\u001b[0m     loc \u001b[39m=\u001b[39m index\u001b[39m.\u001b[39;49mget_loc(key)\n\u001b[1;32m   4238\u001b[0m     \u001b[39mif\u001b[39;00m \u001b[39misinstance\u001b[39m(loc, np\u001b[39m.\u001b[39mndarray):\n\u001b[1;32m   4239\u001b[0m         \u001b[39mif\u001b[39;00m loc\u001b[39m.\u001b[39mdtype \u001b[39m==\u001b[39m np\u001b[39m.\u001b[39mbool_:\n",
      "File \u001b[0;32m/Library/Frameworks/Python.framework/Versions/3.10/lib/python3.10/site-packages/pandas/core/indexes/base.py:3797\u001b[0m, in \u001b[0;36mIndex.get_loc\u001b[0;34m(self, key)\u001b[0m\n\u001b[1;32m   3792\u001b[0m     \u001b[39mif\u001b[39;00m \u001b[39misinstance\u001b[39m(casted_key, \u001b[39mslice\u001b[39m) \u001b[39mor\u001b[39;00m (\n\u001b[1;32m   3793\u001b[0m         \u001b[39misinstance\u001b[39m(casted_key, abc\u001b[39m.\u001b[39mIterable)\n\u001b[1;32m   3794\u001b[0m         \u001b[39mand\u001b[39;00m \u001b[39many\u001b[39m(\u001b[39misinstance\u001b[39m(x, \u001b[39mslice\u001b[39m) \u001b[39mfor\u001b[39;00m x \u001b[39min\u001b[39;00m casted_key)\n\u001b[1;32m   3795\u001b[0m     ):\n\u001b[1;32m   3796\u001b[0m         \u001b[39mraise\u001b[39;00m InvalidIndexError(key)\n\u001b[0;32m-> 3797\u001b[0m     \u001b[39mraise\u001b[39;00m \u001b[39mKeyError\u001b[39;00m(key) \u001b[39mfrom\u001b[39;00m \u001b[39merr\u001b[39;00m\n\u001b[1;32m   3798\u001b[0m \u001b[39mexcept\u001b[39;00m \u001b[39mTypeError\u001b[39;00m:\n\u001b[1;32m   3799\u001b[0m     \u001b[39m# If we have a listlike key, _check_indexing_error will raise\u001b[39;00m\n\u001b[1;32m   3800\u001b[0m     \u001b[39m#  InvalidIndexError. Otherwise we fall through and re-raise\u001b[39;00m\n\u001b[1;32m   3801\u001b[0m     \u001b[39m#  the TypeError.\u001b[39;00m\n\u001b[1;32m   3802\u001b[0m     \u001b[39mself\u001b[39m\u001b[39m.\u001b[39m_check_indexing_error(key)\n",
      "\u001b[0;31mKeyError\u001b[0m: 121"
     ]
    }
   ],
   "source": [
    "import pandas as pd\n",
    "from datetime import datetime, timedelta\n",
    "from dateutil.relativedelta import relativedelta\n",
    "import os\n",
    "\n",
    "df = pd.DataFrame(filtered_data)\n",
    "\n",
    "# Read in the external CSV with floating rates\n",
    "euribor_df = pd.read_csv(your_path + 'EURIBOR.csv')\n",
    "\n",
    "# Convert date columns to datetime type\n",
    "df['effectiveDate'] = pd.to_datetime(df['effectiveDate'])\n",
    "df['expirationDate'] = pd.to_datetime(df['expirationDate'])\n",
    "\n",
    "import pandas as pd\n",
    "from datetime import datetime, timedelta\n",
    "from dateutil.relativedelta import relativedelta\n",
    "\n",
    "df = pd.DataFrame(filtered_data)\n",
    "\n",
    "# Convert date columns to datetime type\n",
    "df['effectiveDate'] = pd.to_datetime(df['effectiveDate'])\n",
    "df['expirationDate'] = pd.to_datetime(df['expirationDate'])\n",
    "\n",
    "def calculate_cashflows(row, period, freq):\n",
    "    cashflows = []\n",
    "    \n",
    "    start_date = row['effectiveDate']\n",
    "    end_date = row['expirationDate']\n",
    "    \n",
    "    if row[period] == 'MNTH':\n",
    "        delta = relativedelta(months=row[freq])\n",
    "    elif row[period] == 'YEAR':\n",
    "        delta = relativedelta(years=row[freq])\n",
    "    elif row[period] == 'DAIL':\n",
    "        delta = timedelta(days=row[freq])\n",
    "    else:\n",
    "        raise ValueError(f\"Unknown frequency period: {row[period]}\")\n",
    "    \n",
    "    while start_date < end_date:\n",
    "        cashflows.append(start_date)\n",
    "        start_date += delta\n",
    "\n",
    "    return cashflows\n",
    "\n",
    "df['cashflow_dates'] = df.apply(\n",
    "    lambda row: \n",
    "        calculate_cashflows(row, 'leg1FixedRatePaymentFrequencyPeriod', 'leg1FixedRatePaymentFrequencyMultiplier') \n",
    "        if row['leg1UnderlyingAssetOrContractType'] == 'Fixed-Floating' \n",
    "        else (calculate_cashflows(row, 'leg2UnderlierTenorPeriod', 'leg2UnderlierTenorMultiplier') \n",
    "              if row['leg1UnderlyingAssetOrContractType'] == 'OIS' \n",
    "              else None), \n",
    "    axis=1)\n",
    "\n",
    "# Assuming the EURIBOR.csv is loaded into euribor_df\n",
    "def convert_to_months(value):\n",
    "    if \"month\" in value:\n",
    "        return int(value.split()[0])\n",
    "    elif \"year\" in value:\n",
    "        return int(value.split()[0]) * 12\n",
    "    else:\n",
    "        return 0\n",
    "\n",
    "euribor_df['MonthsToMaturity'] = euribor_df['timeToMaturity'].apply(convert_to_months)\n",
    "float_rates_df = euribor_df[['MonthsToMaturity', 'Rate']].copy()\n",
    "\n",
    "def discount_rate_curve(date):\n",
    "    months_to_maturity = (date - datetime.now()).days // 30\n",
    "    if months_to_maturity < 0:\n",
    "        months_to_maturity = float_rates_df['MonthsToMaturity'].min()\n",
    "    reindexed_df = float_rates_df.set_index('MonthsToMaturity').reindex(float_rates_df['MonthsToMaturity'], method='nearest')\n",
    "    rate = reindexed_df['Rate'].get(months_to_maturity, reindexed_df['Rate'].iloc[0])\n",
    "    return rate / 100\n",
    "\n",
    "def get_floating_rate(months_to_maturity):\n",
    "    return float_rates_df.set_index('MonthsToMaturity').reindex(float_rates_df['MonthsToMaturity'], method='nearest')['Rate'].loc[months_to_maturity]\n",
    "\n",
    "def calculate_discounted_cashflow(row, type):\n",
    "    total_discounted_cashflow = 0\n",
    "    months_to_maturity = (row['expirationDate'] - row['effectiveDate']).days // 30\n",
    "    for date in row['cashflow_dates']:\n",
    "        if type == 'float':\n",
    "            float_rate = get_floating_rate(months_to_maturity) / 100\n",
    "            cashflow = row['leg1NotionalAmount'] * float_rate\n",
    "        else:\n",
    "            cashflow = row['leg1NotionalAmount'] * row['leg1FixedRate']\n",
    "        time_difference = (date - datetime.now()).days / 365.0\n",
    "        discounted_cashflow = cashflow / (1 + discount_rate_curve(date))**time_difference\n",
    "        total_discounted_cashflow += discounted_cashflow\n",
    "    return total_discounted_cashflow\n",
    "\n",
    "df['MtM_leg1'] = df.apply(lambda row: calculate_discounted_cashflow(row, 'fixed'), axis=1)\n",
    "df['MtM_leg2'] = df.apply(lambda row: calculate_discounted_cashflow(row, 'float'), axis=1)\n",
    "\n",
    "df.drop(columns=['cashflow_dates'], inplace=True)\n",
    "\n",
    "\n",
    "\n",
    "\n",
    "df.drop(columns=['cashflow_dates'], inplace=True)\n",
    "df.to_csv(your_path + 'cashflow.csv', index=False)\n",
    "\n",
    "\n",
    "# This DataFrame now contains cashflow dates and their respective discounted cashflows for each trade\n",
    "#print(df[['cashflow_dates', 'discounted_cashflows']])\n"
   ]
  },
  {
   "cell_type": "markdown",
   "metadata": {},
   "source": [
    "Risk"
   ]
  },
  {
   "cell_type": "code",
   "execution_count": null,
   "metadata": {},
   "outputs": [],
   "source": []
  }
 ],
 "metadata": {
  "kernelspec": {
   "display_name": "Python 3",
   "language": "python",
   "name": "python3"
  },
  "language_info": {
   "codemirror_mode": {
    "name": "ipython",
    "version": 3
   },
   "file_extension": ".py",
   "mimetype": "text/x-python",
   "name": "python",
   "nbconvert_exporter": "python",
   "pygments_lexer": "ipython3",
   "version": "3.10.0"
  },
  "orig_nbformat": 4
 },
 "nbformat": 4,
 "nbformat_minor": 2
}
