{
 "cells": [
  {
   "cell_type": "markdown",
   "metadata": {},
   "source": [
    "The pre processor is used to process all data into a suitable format for the autoencoder."
   ]
  },
  {
   "cell_type": "code",
   "execution_count": 4,
   "metadata": {},
   "outputs": [],
   "source": [
    "# PREPROCESSOR \n",
    "import pandas as pd\n",
    "import numpy as np\n",
    "from sklearn.preprocessing import StandardScaler, OneHotEncoder\n",
    "from sklearn.compose import ColumnTransformer\n",
    "from sklearn.pipeline import Pipeline\n",
    "from sklearn.impute import SimpleImputer\n",
    "\n",
    "# Loading Data from CSV\n",
    "file_path = '/Users/elliotlindestam/Documents/Skola/Indek icloud/trioptima/RT.IRS_CLEAN.csv'\n",
    "data = pd.read_csv(file_path)\n",
    "\n",
    "# Handling DateTime Variables\n",
    "data['effectiveDate'] = pd.to_datetime(data['effectiveDate'], errors='coerce')\n",
    "data['effectiveYear'] = data['effectiveDate'].dt.year\n",
    "data['effectiveMonth'] = data['effectiveDate'].dt.month\n",
    "data['effectiveDay'] = data['effectiveDate'].dt.day\n",
    "\n",
    "# Drop the original 'effectiveDate' column\n",
    "data = data.drop(columns=['effectiveDate'])\n",
    "\n",
    "# Identifying variable types\n",
    "numerical_vars = ['leg1FixedRate', 'leg1FixedRatePaymentFrequencyMultiplier', 'effectiveYear', 'effectiveMonth', 'effectiveDay']\n",
    "categorical_vars = ['action', 'assetClass', 'leg2UnderlierTenorPeriod', 'leg2ResetFrequencyPeriod']\n",
    "\n",
    "# Preprocessing: Numerical Variables\n",
    "numeric_transformer = Pipeline(steps=[\n",
    "    ('imputer', SimpleImputer(strategy='median')),\n",
    "    ('scaler', StandardScaler())\n",
    "])\n",
    "\n",
    "# Preprocessing: Categorical Variables\n",
    "categorical_transformer = Pipeline(steps=[\n",
    "    ('imputer', SimpleImputer(strategy='most_frequent')),\n",
    "    ('onehot', OneHotEncoder(handle_unknown='ignore'))\n",
    "])\n",
    "\n",
    "# Column Transformer: Applying transformations to respective columns\n",
    "preprocessor = ColumnTransformer(\n",
    "    transformers=[\n",
    "        ('num', numeric_transformer, numerical_vars),\n",
    "        ('cat', categorical_transformer, categorical_vars)\n",
    "    ]\n",
    ")\n",
    "\n",
    "# Applying Preprocessing\n",
    "data_preprocessed = pd.DataFrame(preprocessor.fit_transform(data))\n"
   ]
  },
  {
   "cell_type": "markdown",
   "metadata": {},
   "source": [
    "Exporting the processed data into a .csv"
   ]
  },
  {
   "cell_type": "code",
   "execution_count": 12,
   "metadata": {},
   "outputs": [],
   "source": [
    "import os\n",
    "\n",
    "# Define the path\n",
    "path = '/Users/elliotlindestam/Documents/Skola/Indek icloud/trioptima'\n",
    "\n",
    "# Check if the path does not exist\n",
    "if not os.path.exists(path):\n",
    "    # Create the directory\n",
    "    os.makedirs(path)\n",
    "\n",
    "# Now you can save the DataFrame\n",
    "data_preprocessed.to_csv(f'{path}/processed_data.csv', index=False)\n",
    "\n"
   ]
  },
  {
   "cell_type": "markdown",
   "metadata": {},
   "source": [
    "Defining the autoencoder module"
   ]
  },
  {
   "cell_type": "code",
   "execution_count": 13,
   "metadata": {},
   "outputs": [
    {
     "name": "stderr",
     "output_type": "stream",
     "text": [
      "/var/folders/rq/30rpw85n53d2zxnt_c5qnrx40000gn/T/ipykernel_4723/931902708.py:11: FutureWarning: DataFrame.applymap has been deprecated. Use DataFrame.map instead.\n",
      "  assert data_preprocessed.applymap(np.isreal).all().all(), \"Non-numeric data found\"\n"
     ]
    }
   ],
   "source": [
    "import pandas as pd\n",
    "import tensorflow as tf\n",
    "from tensorflow.keras import layers, models\n",
    "import numpy as np\n",
    "\n",
    "# Load preprocessed data\n",
    "file_path = '/Users/elliotlindestam/Documents/Skola/Indek icloud/trioptima/processed_data.csv'  # Update this path as per your directory structure\n",
    "data_preprocessed = pd.read_csv(file_path, header=0)  # Ensuring the first row is treated as header\n",
    "\n",
    "# Check to make sure the data is in expected format (all numeric, no NaN values)\n",
    "assert data_preprocessed.applymap(np.isreal).all().all(), \"Non-numeric data found\"\n",
    "assert not data_preprocessed.isnull().any().any(), \"NaN values found\"\n",
    "\n",
    "# Dimensions\n",
    "input_dim = data_preprocessed.shape[1]  # Picks the Number of features = to the number of columns\n",
    "encoding_dim = int(input_dim / 2)  # Length of encoded representations\n",
    "\n",
    "# Define the encoder and decoder layers\n",
    "input_layer = layers.Input(shape=(input_dim,))\n",
    "encoder_layer = layers.Dense(encoding_dim, activation='relu')(input_layer)\n",
    "decoder_layer = layers.Dense(input_dim, activation='sigmoid')(encoder_layer)\n",
    "\n",
    "# Construct the autoencoder model\n",
    "autoencoder = models.Model(inputs=input_layer, outputs=decoder_layer)\n",
    "\n",
    "# Compile the model\n",
    "autoencoder.compile(optimizer='adam', loss='mean_squared_error')\n",
    "\n"
   ]
  },
  {
   "cell_type": "markdown",
   "metadata": {},
   "source": [
    "Training the autoencoder"
   ]
  },
  {
   "cell_type": "code",
   "execution_count": 14,
   "metadata": {},
   "outputs": [
    {
     "name": "stdout",
     "output_type": "stream",
     "text": [
      "Epoch 1/100\n",
      "164/164 [==============================] - 1s 3ms/step - loss: 0.5449 - val_loss: 0.4710\n",
      "Epoch 2/100\n",
      "164/164 [==============================] - 0s 2ms/step - loss: 0.4123 - val_loss: 0.3663\n",
      "Epoch 3/100\n",
      "164/164 [==============================] - 0s 2ms/step - loss: 0.3406 - val_loss: 0.3220\n",
      "Epoch 4/100\n",
      "164/164 [==============================] - 0s 2ms/step - loss: 0.3053 - val_loss: 0.2888\n",
      "Epoch 5/100\n",
      "164/164 [==============================] - 0s 2ms/step - loss: 0.2796 - val_loss: 0.2652\n",
      "Epoch 6/100\n",
      "164/164 [==============================] - 0s 2ms/step - loss: 0.2620 - val_loss: 0.2506\n",
      "Epoch 7/100\n",
      "164/164 [==============================] - 0s 2ms/step - loss: 0.2502 - val_loss: 0.2414\n",
      "Epoch 8/100\n",
      "164/164 [==============================] - 0s 2ms/step - loss: 0.2407 - val_loss: 0.2340\n",
      "Epoch 9/100\n",
      "164/164 [==============================] - 0s 2ms/step - loss: 0.2323 - val_loss: 0.2284\n",
      "Epoch 10/100\n",
      "164/164 [==============================] - 0s 2ms/step - loss: 0.2260 - val_loss: 0.2242\n",
      "Epoch 11/100\n",
      "164/164 [==============================] - 0s 2ms/step - loss: 0.2217 - val_loss: 0.2214\n",
      "Epoch 12/100\n",
      "164/164 [==============================] - 0s 2ms/step - loss: 0.2188 - val_loss: 0.2192\n",
      "Epoch 13/100\n",
      "164/164 [==============================] - 0s 2ms/step - loss: 0.2168 - val_loss: 0.2174\n",
      "Epoch 14/100\n",
      "164/164 [==============================] - 0s 2ms/step - loss: 0.2153 - val_loss: 0.2162\n",
      "Epoch 15/100\n",
      "164/164 [==============================] - 0s 2ms/step - loss: 0.2142 - val_loss: 0.2152\n",
      "Epoch 16/100\n",
      "164/164 [==============================] - 0s 2ms/step - loss: 0.2133 - val_loss: 0.2144\n",
      "Epoch 17/100\n",
      "164/164 [==============================] - 0s 2ms/step - loss: 0.2126 - val_loss: 0.2138\n",
      "Epoch 18/100\n",
      "164/164 [==============================] - 0s 2ms/step - loss: 0.2120 - val_loss: 0.2134\n",
      "Epoch 19/100\n",
      "164/164 [==============================] - 0s 2ms/step - loss: 0.2115 - val_loss: 0.2127\n",
      "Epoch 20/100\n",
      "164/164 [==============================] - 0s 2ms/step - loss: 0.2111 - val_loss: 0.2123\n",
      "Epoch 21/100\n",
      "164/164 [==============================] - 0s 2ms/step - loss: 0.2107 - val_loss: 0.2118\n",
      "Epoch 22/100\n",
      "164/164 [==============================] - 0s 2ms/step - loss: 0.2104 - val_loss: 0.2113\n",
      "Epoch 23/100\n",
      "164/164 [==============================] - 0s 2ms/step - loss: 0.2101 - val_loss: 0.2110\n",
      "Epoch 24/100\n",
      "164/164 [==============================] - 0s 2ms/step - loss: 0.2099 - val_loss: 0.2106\n",
      "Epoch 25/100\n",
      "164/164 [==============================] - 0s 2ms/step - loss: 0.2096 - val_loss: 0.2104\n",
      "Epoch 26/100\n",
      "164/164 [==============================] - 0s 2ms/step - loss: 0.2094 - val_loss: 0.2100\n",
      "Epoch 27/100\n",
      "164/164 [==============================] - 0s 2ms/step - loss: 0.2093 - val_loss: 0.2097\n",
      "Epoch 28/100\n",
      "164/164 [==============================] - 0s 2ms/step - loss: 0.2091 - val_loss: 0.2094\n",
      "Epoch 29/100\n",
      "164/164 [==============================] - 0s 2ms/step - loss: 0.2089 - val_loss: 0.2091\n",
      "Epoch 30/100\n",
      "164/164 [==============================] - 0s 2ms/step - loss: 0.2088 - val_loss: 0.2089\n",
      "Epoch 31/100\n",
      "164/164 [==============================] - 0s 2ms/step - loss: 0.2087 - val_loss: 0.2087\n",
      "Epoch 32/100\n",
      "164/164 [==============================] - 0s 2ms/step - loss: 0.2086 - val_loss: 0.2084\n",
      "Epoch 33/100\n",
      "164/164 [==============================] - 0s 2ms/step - loss: 0.2085 - val_loss: 0.2083\n",
      "Epoch 34/100\n",
      "164/164 [==============================] - 0s 2ms/step - loss: 0.2084 - val_loss: 0.2081\n",
      "Epoch 35/100\n",
      "164/164 [==============================] - 0s 2ms/step - loss: 0.2083 - val_loss: 0.2080\n",
      "Epoch 36/100\n",
      "164/164 [==============================] - 0s 2ms/step - loss: 0.2082 - val_loss: 0.2078\n",
      "Epoch 37/100\n",
      "164/164 [==============================] - 0s 2ms/step - loss: 0.2081 - val_loss: 0.2074\n",
      "Epoch 38/100\n",
      "164/164 [==============================] - 0s 3ms/step - loss: 0.2081 - val_loss: 0.2073\n",
      "Epoch 39/100\n",
      "164/164 [==============================] - 0s 2ms/step - loss: 0.2080 - val_loss: 0.2071\n",
      "Epoch 40/100\n",
      "164/164 [==============================] - 0s 2ms/step - loss: 0.2080 - val_loss: 0.2071\n",
      "Epoch 41/100\n",
      "164/164 [==============================] - 0s 2ms/step - loss: 0.2079 - val_loss: 0.2068\n",
      "Epoch 42/100\n",
      "164/164 [==============================] - 0s 2ms/step - loss: 0.2079 - val_loss: 0.2068\n",
      "Epoch 43/100\n",
      "164/164 [==============================] - 0s 2ms/step - loss: 0.2078 - val_loss: 0.2067\n",
      "Epoch 44/100\n",
      "164/164 [==============================] - 0s 2ms/step - loss: 0.2078 - val_loss: 0.2066\n",
      "Epoch 45/100\n",
      "164/164 [==============================] - 0s 2ms/step - loss: 0.2077 - val_loss: 0.2065\n",
      "Epoch 46/100\n",
      "164/164 [==============================] - 0s 2ms/step - loss: 0.2077 - val_loss: 0.2063\n",
      "Epoch 47/100\n",
      "164/164 [==============================] - 0s 2ms/step - loss: 0.2077 - val_loss: 0.2062\n",
      "Epoch 48/100\n",
      "164/164 [==============================] - 0s 2ms/step - loss: 0.2076 - val_loss: 0.2061\n",
      "Epoch 49/100\n",
      "164/164 [==============================] - 0s 2ms/step - loss: 0.2076 - val_loss: 0.2059\n",
      "Epoch 50/100\n",
      "164/164 [==============================] - 0s 2ms/step - loss: 0.2076 - val_loss: 0.2059\n",
      "Epoch 51/100\n",
      "164/164 [==============================] - 0s 1ms/step - loss: 0.2075 - val_loss: 0.2058\n",
      "Epoch 52/100\n",
      "164/164 [==============================] - 0s 2ms/step - loss: 0.2075 - val_loss: 0.2057\n",
      "Epoch 53/100\n",
      "164/164 [==============================] - 0s 1ms/step - loss: 0.2075 - val_loss: 0.2057\n",
      "Epoch 54/100\n",
      "164/164 [==============================] - 0s 2ms/step - loss: 0.2075 - val_loss: 0.2054\n",
      "Epoch 55/100\n",
      "164/164 [==============================] - 0s 1ms/step - loss: 0.2075 - val_loss: 0.2054\n",
      "Epoch 56/100\n",
      "164/164 [==============================] - 0s 1ms/step - loss: 0.2074 - val_loss: 0.2053\n",
      "Epoch 57/100\n",
      "164/164 [==============================] - 0s 2ms/step - loss: 0.2074 - val_loss: 0.2052\n",
      "Epoch 58/100\n",
      "164/164 [==============================] - 0s 2ms/step - loss: 0.2074 - val_loss: 0.2051\n",
      "Epoch 59/100\n",
      "164/164 [==============================] - 0s 2ms/step - loss: 0.2074 - val_loss: 0.2051\n",
      "Epoch 60/100\n",
      "164/164 [==============================] - 0s 2ms/step - loss: 0.2074 - val_loss: 0.2050\n",
      "Epoch 61/100\n",
      "164/164 [==============================] - 0s 2ms/step - loss: 0.2074 - val_loss: 0.2049\n",
      "Epoch 62/100\n",
      "164/164 [==============================] - 0s 2ms/step - loss: 0.2073 - val_loss: 0.2049\n",
      "Epoch 63/100\n",
      "164/164 [==============================] - 0s 1ms/step - loss: 0.2073 - val_loss: 0.2047\n",
      "Epoch 64/100\n",
      "164/164 [==============================] - 0s 1ms/step - loss: 0.2073 - val_loss: 0.2047\n",
      "Epoch 65/100\n",
      "164/164 [==============================] - 0s 2ms/step - loss: 0.2073 - val_loss: 0.2045\n",
      "Epoch 66/100\n",
      "164/164 [==============================] - 0s 1ms/step - loss: 0.2073 - val_loss: 0.2045\n",
      "Epoch 67/100\n",
      "164/164 [==============================] - 0s 2ms/step - loss: 0.2073 - val_loss: 0.2045\n",
      "Epoch 68/100\n",
      "164/164 [==============================] - 0s 1ms/step - loss: 0.2073 - val_loss: 0.2043\n",
      "Epoch 69/100\n",
      "164/164 [==============================] - 0s 1ms/step - loss: 0.2073 - val_loss: 0.2042\n",
      "Epoch 70/100\n",
      "164/164 [==============================] - 0s 2ms/step - loss: 0.2073 - val_loss: 0.2041\n",
      "Epoch 71/100\n",
      "164/164 [==============================] - 0s 2ms/step - loss: 0.2072 - val_loss: 0.2041\n",
      "Epoch 72/100\n",
      "164/164 [==============================] - 0s 2ms/step - loss: 0.2072 - val_loss: 0.2041\n",
      "Epoch 73/100\n",
      "164/164 [==============================] - 0s 2ms/step - loss: 0.2072 - val_loss: 0.2040\n",
      "Epoch 74/100\n",
      "164/164 [==============================] - 0s 2ms/step - loss: 0.2072 - val_loss: 0.2040\n",
      "Epoch 75/100\n",
      "164/164 [==============================] - 0s 2ms/step - loss: 0.2072 - val_loss: 0.2038\n",
      "Epoch 76/100\n",
      "164/164 [==============================] - 0s 1ms/step - loss: 0.2072 - val_loss: 0.2038\n",
      "Epoch 77/100\n",
      "164/164 [==============================] - 0s 2ms/step - loss: 0.2072 - val_loss: 0.2038\n",
      "Epoch 78/100\n",
      "164/164 [==============================] - 0s 2ms/step - loss: 0.2072 - val_loss: 0.2037\n",
      "Epoch 79/100\n",
      "164/164 [==============================] - 0s 2ms/step - loss: 0.2072 - val_loss: 0.2036\n",
      "Epoch 80/100\n",
      "164/164 [==============================] - 0s 1ms/step - loss: 0.2071 - val_loss: 0.2036\n",
      "Epoch 81/100\n",
      "164/164 [==============================] - 0s 2ms/step - loss: 0.2071 - val_loss: 0.2037\n",
      "Epoch 82/100\n",
      "164/164 [==============================] - 0s 2ms/step - loss: 0.2071 - val_loss: 0.2036\n",
      "Epoch 83/100\n",
      "164/164 [==============================] - 0s 2ms/step - loss: 0.2071 - val_loss: 0.2035\n",
      "Epoch 84/100\n",
      "164/164 [==============================] - 0s 1ms/step - loss: 0.2071 - val_loss: 0.2035\n",
      "Epoch 85/100\n",
      "164/164 [==============================] - 0s 2ms/step - loss: 0.2071 - val_loss: 0.2035\n",
      "Epoch 86/100\n",
      "164/164 [==============================] - 0s 2ms/step - loss: 0.2071 - val_loss: 0.2035\n",
      "Epoch 87/100\n",
      "164/164 [==============================] - 0s 2ms/step - loss: 0.2071 - val_loss: 0.2033\n",
      "Epoch 88/100\n",
      "164/164 [==============================] - 0s 2ms/step - loss: 0.2071 - val_loss: 0.2034\n",
      "Epoch 89/100\n",
      "164/164 [==============================] - 0s 2ms/step - loss: 0.2071 - val_loss: 0.2034\n",
      "Epoch 90/100\n",
      "164/164 [==============================] - 0s 1ms/step - loss: 0.2071 - val_loss: 0.2033\n",
      "Epoch 91/100\n",
      "164/164 [==============================] - 0s 2ms/step - loss: 0.2070 - val_loss: 0.2032\n",
      "Epoch 92/100\n",
      "164/164 [==============================] - 0s 2ms/step - loss: 0.2070 - val_loss: 0.2030\n",
      "Epoch 93/100\n",
      "164/164 [==============================] - 0s 2ms/step - loss: 0.2070 - val_loss: 0.2028\n",
      "Epoch 94/100\n",
      "164/164 [==============================] - 0s 2ms/step - loss: 0.2069 - val_loss: 0.2029\n",
      "Epoch 95/100\n",
      "164/164 [==============================] - 0s 2ms/step - loss: 0.2069 - val_loss: 0.2026\n",
      "Epoch 96/100\n",
      "164/164 [==============================] - 0s 2ms/step - loss: 0.2069 - val_loss: 0.2026\n",
      "Epoch 97/100\n",
      "164/164 [==============================] - 0s 2ms/step - loss: 0.2069 - val_loss: 0.2026\n",
      "Epoch 98/100\n",
      "164/164 [==============================] - 0s 2ms/step - loss: 0.2069 - val_loss: 0.2026\n",
      "Epoch 99/100\n",
      "164/164 [==============================] - 0s 2ms/step - loss: 0.2068 - val_loss: 0.2026\n",
      "Epoch 100/100\n",
      "164/164 [==============================] - 0s 2ms/step - loss: 0.2068 - val_loss: 0.2026\n"
     ]
    }
   ],
   "source": [
    "history = autoencoder.fit(\n",
    "    data_preprocessed, data_preprocessed,\n",
    "    epochs=100,\n",
    "    batch_size=32,\n",
    "    shuffle=True,\n",
    "    validation_split=0.1  # 10% of data for validation\n",
    ")\n"
   ]
  },
  {
   "cell_type": "markdown",
   "metadata": {},
   "source": [
    "Visualize the network Currently not working"
   ]
  },
  {
   "cell_type": "code",
   "execution_count": 41,
   "metadata": {},
   "outputs": [
    {
     "name": "stdout",
     "output_type": "stream",
     "text": [
      "You must install pydot (`pip install pydot`) and install graphviz (see instructions at https://graphviz.gitlab.io/download/) for plot_model to work.\n"
     ]
    }
   ],
   "source": [
    "# Ensure the model plot is saved and displayed\n",
    "plot_model(autoencoder, to_file='model.png', show_shapes=True, show_layer_names=True)\n"
   ]
  },
  {
   "cell_type": "markdown",
   "metadata": {},
   "source": [
    "Anomaly detection"
   ]
  },
  {
   "cell_type": "code",
   "execution_count": 7,
   "metadata": {},
   "outputs": [
    {
     "name": "stdout",
     "output_type": "stream",
     "text": [
      "182/182 [==============================] - 0s 1ms/step\n",
      "       reconstruction_error\n",
      "count           5804.000000\n",
      "mean               0.201609\n",
      "std                0.375718\n",
      "min                0.000088\n",
      "25%                0.033445\n",
      "50%                0.095346\n",
      "75%                0.210636\n",
      "max                3.811505\n"
     ]
    }
   ],
   "source": [
    "# Obtain the reconstructed data\n",
    "predictions = autoencoder.predict(data_preprocessed)\n",
    "\n",
    "# Measure the reconstruction error\n",
    "mse = np.mean(np.power(data_preprocessed - predictions, 2), axis=1)\n",
    "\n",
    "# Convert mse to a DataFrame for easier handling\n",
    "mse_df = pd.DataFrame({'reconstruction_error': mse})\n",
    "\n",
    "# Display basic statistics of the error\n",
    "print(mse_df.describe())\n"
   ]
  },
  {
   "cell_type": "markdown",
   "metadata": {},
   "source": [
    "Visualize"
   ]
  },
  {
   "cell_type": "code",
   "execution_count": 11,
   "metadata": {},
   "outputs": [
    {
     "data": {
      "image/png": "[encoded data removed]",
      "text/plain": [
       "<Figure size 1200x600 with 1 Axes>"
      ]
     },
     "metadata": {},
     "output_type": "display_data"
    },
    {
     "name": "stdout",
     "output_type": "stream",
     "text": [
      "Anomaly threshold: 0.5873169214646455\n"
     ]
    }
   ],
   "source": [
    "import matplotlib.pyplot as plt\n",
    "import seaborn as sns\n",
    "\n",
    "plt.figure(figsize=(12, 6))\n",
    "sns.histplot(mse_df['reconstruction_error'], bins=50, kde=True)\n",
    "plt.title('Reconstruction error distribution')\n",
    "plt.xlabel('Reconstruction error')\n",
    "plt.ylabel('Frequency')\n",
    "\n",
    "\n",
    "threshold = np.percentile(mse_df['reconstruction_error'], 95)\n",
    "plt.axvline(x=threshold, color='r', linestyle='--', label=f'Threshold: {threshold:.2f}')\n",
    "plt.show() \n",
    "print(f\"Anomaly threshold: {threshold}\")\n",
    "\n"
   ]
  }
 ],
 "metadata": {
  "kernelspec": {
   "display_name": "Python 3",
   "language": "python",
   "name": "python3"
  },
  "language_info": {
   "codemirror_mode": {
    "name": "ipython",
    "version": 3
   },
   "file_extension": ".py",
   "mimetype": "text/x-python",
   "name": "python",
   "nbconvert_exporter": "python",
   "pygments_lexer": "ipython3",
   "version": "3.11.5"
  },
  "orig_nbformat": 4
 },
 "nbformat": 4,
 "nbformat_minor": 2
}
