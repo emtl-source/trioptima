{
 "cells": [
  {
   "cell_type": "code",
   "execution_count": 4,
   "metadata": {},
   "outputs": [],
   "source": [
    "import numpy as np\n",
    "import tensorflow as tf\n",
    "from tensorflow.keras import layers, models\n",
    "import matplotlib.pyplot as plt\n",
    "import pandas as pd\n",
    "from sklearn.model_selection import train_test_split\n",
    "from sklearn.preprocessing import StandardScaler\n"
   ]
  },
  {
   "cell_type": "code",
   "execution_count": null,
   "metadata": {},
   "outputs": [],
   "source": [
    "# Read data from CSV file\n",
    "file_path = 'your_file_path.csv'  # Replace with your file path\n",
    "data = pd.read_csv(file_path)\n",
    "\n",
    "# Assume the target variable for anomaly detection is named 'is_anomaly'\n",
    "# And all other columns are features\n",
    "features = data.drop(columns=['is_anomaly'])  \n",
    "\n",
    "# Scale the features\n",
    "scaler = StandardScaler()\n",
    "scaled_features = scaler.fit_transform(features)\n",
    "\n",
    "# Split the data into training and validation sets\n",
    "X_train, X_val = train_test_split(scaled_features, test_size=0.2, random_state=42)\n"
   ]
  },
  {
   "cell_type": "code",
   "execution_count": 2,
   "metadata": {},
   "outputs": [
    {
     "name": "stdout",
     "output_type": "stream",
     "text": [
      "Hello\n"
     ]
    }
   ],
   "source": [
    "input_dim = 30  # Assume 30 features. Adjust as per your dataset.\n",
    "\n",
    "# Define the encoder\n",
    "encoder = models.Sequential([\n",
    "    layers.Input(shape=(input_dim,)),\n",
    "    layers.Dense(20, activation='relu'),\n",
    "    layers.Dense(10, activation='relu')\n",
    "])\n",
    "\n",
    "# Define the decoder\n",
    "decoder = models.Sequential([\n",
    "    layers.Input(shape=(10,)),\n",
    "    layers.Dense(20, activation='relu'),\n",
    "    layers.Dense(input_dim, activation='sigmoid')\n",
    "])\n",
    "\n",
    "# Combine encoder and decoder to define autoencoder\n",
    "autoencoder = models.Sequential([encoder, decoder])\n",
    "\n",
    "# Compile the model\n",
    "autoencoder.compile(optimizer='adam', loss='mean_squared_error')\n"
   ]
  },
  {
   "cell_type": "code",
   "execution_count": 3,
   "metadata": {},
   "outputs": [
    {
     "name": "stdout",
     "output_type": "stream",
     "text": [
      "Hello, I am alive\n"
     ]
    }
   ],
   "source": [
    "history = autoencoder.fit(\n",
    "    X_train, X_train,\n",
    "    epochs=50,\n",
    "    batch_size=256,\n",
    "    validation_data=(X_val, X_val)\n",
    ")\n"
   ]
  },
  {
   "cell_type": "code",
   "execution_count": null,
   "metadata": {},
   "outputs": [],
   "source": [
    "# Obtain the reconstructions of the data\n",
    "reconstructions = autoencoder.predict(X_val)\n",
    "\n",
    "# Compute the mean squared error for each sample\n",
    "mse_per_instance = np.mean(np.square(X_val - reconstructions), axis=1)\n",
    "\n",
    "# Choose a threshold value\n",
    "threshold = np.percentile(mse_per_instance, 95)  # e.g., 95th percentile\n",
    "\n",
    "# Classify instances with MSE above the threshold as anomalies\n",
    "anomalies = mse_per_instance > threshold\n"
   ]
  }
 ],
 "metadata": {
  "kernelspec": {
   "display_name": "Python 3",
   "language": "python",
   "name": "python3"
  },
  "language_info": {
   "codemirror_mode": {
    "name": "ipython",
    "version": 3
   },
   "file_extension": ".py",
   "mimetype": "text/x-python",
   "name": "python",
   "nbconvert_exporter": "python",
   "pygments_lexer": "ipython3",
   "version": "3.10.0"
  },
  "orig_nbformat": 4
 },
 "nbformat": 4,
 "nbformat_minor": 2
}
