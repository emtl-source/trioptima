{
 "cells": [
  {
   "cell_type": "markdown",
   "metadata": {},
   "source": [
    "Defining the autoencoder module"
   ]
  },
  {
   "cell_type": "code",
   "execution_count": 1,
   "metadata": {},
   "outputs": [
    {
     "name": "stdout",
     "output_type": "stream",
     "text": [
      "Inf values in data:  0\n",
      "NaN values in data:  0\n",
      "Epoch 1/10\n"
     ]
    },
    {
     "name": "stderr",
     "output_type": "stream",
     "text": [
      "C:\\Users\\gusta\\AppData\\Local\\Temp\\ipykernel_25404\\3292300205.py:30: FutureWarning: DataFrame.applymap has been deprecated. Use DataFrame.map instead.\n",
      "  assert data_preprocessed.applymap(np.isreal).all().all(), \"Non-numeric data found\"\n"
     ]
    },
    {
     "name": "stdout",
     "output_type": "stream",
     "text": [
      "164/164 [==============================] - 1s 2ms/step - loss: 16590.8809 - val_loss: 16605.7734\n",
      "Epoch 2/10\n",
      "164/164 [==============================] - 0s 2ms/step - loss: 16590.8164 - val_loss: 16605.7461\n",
      "Epoch 3/10\n",
      "164/164 [==============================] - 0s 2ms/step - loss: 16590.8086 - val_loss: 16605.7383\n",
      "Epoch 4/10\n",
      "164/164 [==============================] - 0s 2ms/step - loss: 16590.8105 - val_loss: 16605.7383\n",
      "Epoch 5/10\n",
      "164/164 [==============================] - 0s 2ms/step - loss: 16590.8105 - val_loss: 16605.7383\n",
      "Epoch 6/10\n",
      "164/164 [==============================] - 0s 2ms/step - loss: 16590.8066 - val_loss: 16605.7383\n",
      "Epoch 7/10\n",
      "164/164 [==============================] - 0s 2ms/step - loss: 16590.8047 - val_loss: 16605.7324\n",
      "Epoch 8/10\n",
      "164/164 [==============================] - 0s 2ms/step - loss: 16590.8066 - val_loss: 16605.7324\n",
      "Epoch 9/10\n",
      "164/164 [==============================] - 0s 2ms/step - loss: 16590.8027 - val_loss: 16605.7305\n",
      "Epoch 10/10\n",
      "164/164 [==============================] - 0s 2ms/step - loss: 16590.8027 - val_loss: 16605.7305\n",
      "Epoch 1/10\n",
      "164/164 [==============================] - 1s 3ms/step - loss: 16582.5273 - val_loss: 16597.3652\n",
      "Epoch 2/10\n",
      "164/164 [==============================] - 0s 2ms/step - loss: 16582.4336 - val_loss: 16597.3613\n",
      "Epoch 3/10\n",
      "164/164 [==============================] - 0s 2ms/step - loss: 16582.4219 - val_loss: 16597.3535\n",
      "Epoch 4/10\n",
      "164/164 [==============================] - 0s 2ms/step - loss: 16582.4141 - val_loss: 16597.3223\n",
      "Epoch 5/10\n",
      "164/164 [==============================] - 0s 2ms/step - loss: 16582.3828 - val_loss: 16597.2910\n",
      "Epoch 6/10\n",
      "164/164 [==============================] - 0s 2ms/step - loss: 16582.3320 - val_loss: 16597.2461\n",
      "Epoch 7/10\n",
      "164/164 [==============================] - 0s 2ms/step - loss: 16582.3125 - val_loss: 16597.2383\n",
      "Epoch 8/10\n",
      "164/164 [==============================] - 0s 3ms/step - loss: 16582.3027 - val_loss: 16597.2344\n",
      "Epoch 9/10\n",
      "164/164 [==============================] - 0s 3ms/step - loss: 16582.3086 - val_loss: 16597.2305\n",
      "Epoch 10/10\n",
      "164/164 [==============================] - 0s 2ms/step - loss: 16582.3027 - val_loss: 16597.2324\n",
      "Epoch 1/10\n",
      "164/164 [==============================] - 1s 5ms/step - loss: 16592.4434 - val_loss: 16605.8770\n",
      "Epoch 2/10\n",
      "164/164 [==============================] - 1s 4ms/step - loss: 16590.9043 - val_loss: 16605.8691\n",
      "Epoch 3/10\n",
      "164/164 [==============================] - 1s 4ms/step - loss: 16590.9062 - val_loss: 16605.8652\n",
      "Epoch 4/10\n",
      "164/164 [==============================] - 1s 4ms/step - loss: 16590.9004 - val_loss: 16605.8633\n",
      "Epoch 5/10\n",
      "164/164 [==============================] - 1s 4ms/step - loss: 16590.8887 - val_loss: 16605.8477\n",
      "Epoch 6/10\n",
      "164/164 [==============================] - 1s 4ms/step - loss: 16590.8789 - val_loss: 16605.8418\n",
      "Epoch 7/10\n",
      "164/164 [==============================] - 1s 4ms/step - loss: 16590.8809 - val_loss: 16605.8379\n",
      "Epoch 8/10\n",
      "164/164 [==============================] - 1s 4ms/step - loss: 16590.8770 - val_loss: 16605.8379\n",
      "Epoch 9/10\n",
      "164/164 [==============================] - 1s 4ms/step - loss: 16590.8770 - val_loss: 16605.8379\n",
      "Epoch 10/10\n",
      "164/164 [==============================] - 1s 4ms/step - loss: 16590.8672 - val_loss: 16605.8379\n",
      "Epoch 1/10\n",
      "164/164 [==============================] - 2s 10ms/step - loss: 16590.8320 - val_loss: 16605.7871\n",
      "Epoch 2/10\n",
      "164/164 [==============================] - 2s 9ms/step - loss: 16590.8242 - val_loss: 16605.7871\n",
      "Epoch 3/10\n",
      "164/164 [==============================] - 2s 9ms/step - loss: 16590.8203 - val_loss: 16605.7871\n",
      "Epoch 4/10\n",
      "164/164 [==============================] - 2s 9ms/step - loss: 16590.8242 - val_loss: 16605.7871\n",
      "Epoch 5/10\n",
      "164/164 [==============================] - 2s 9ms/step - loss: 16590.8223 - val_loss: 16605.7871\n",
      "Epoch 6/10\n",
      "164/164 [==============================] - 2s 9ms/step - loss: 16590.8203 - val_loss: 16605.7871\n",
      "Epoch 7/10\n",
      "164/164 [==============================] - 2s 9ms/step - loss: 16590.8242 - val_loss: 16605.7871\n",
      "Epoch 8/10\n",
      "164/164 [==============================] - 1s 9ms/step - loss: 16590.8281 - val_loss: 16605.7871\n",
      "Epoch 9/10\n",
      "164/164 [==============================] - 2s 9ms/step - loss: 16590.8184 - val_loss: 16605.7871\n",
      "Epoch 10/10\n",
      "164/164 [==============================] - 2s 9ms/step - loss: 16590.8242 - val_loss: 16605.7871\n",
      "Best Model Configuration:\n",
      "Number of Layers: 5\n",
      "Number of Neurons per Layer: 100\n"
     ]
    }
   ],
   "source": [
    "import pandas as pd\n",
    "import tensorflow as tf\n",
    "from tensorflow.keras import layers, models\n",
    "import numpy as np\n",
    "from tensorflow.keras import backend as K\n",
    "\n",
    " #r'C:\\Users\\gusta\\Documents\\KTH\\TriOptima\\trioptima/'\n",
    "#'/Users/elliotlindestam/Documents/Skola/Indek icloud/trioptima/'\n",
    "your_path = r'C:\\Users\\gusta\\Documents\\KTH\\TriOptima\\trioptima/'\n",
    "file_name = \"RT.IRS_Data_2023_Cleaned_Scaled\"\n",
    "\n",
    "# Load preprocessed data\n",
    "file_path = your_path + '3.Scaled/' + file_name +'.csv'\n",
    "data_preprocessed = pd.read_csv(file_path, header=0)\n",
    "\n",
    "# Convert data to float32\n",
    "data_preprocessed = data_preprocessed.astype(np.float32)\n",
    "\n",
    "# Check for inf or NaN values in data\n",
    "print(\"Inf values in data: \", np.isinf(data_preprocessed).values.sum())\n",
    "print(\"NaN values in data: \", np.isnan(data_preprocessed).values.sum())\n",
    "\n",
    "# Check to make sure the data is in expected format\n",
    "try:\n",
    "    data_preprocessed = data_preprocessed.astype(float)\n",
    "except ValueError as e:\n",
    "    print(f\"ValueError: {e}\")\n",
    "\n",
    "# Check to make sure the data is in expected format\n",
    "assert data_preprocessed.applymap(np.isreal).all().all(), \"Non-numeric data found\"\n",
    "assert not data_preprocessed.isnull().any().any(), \"NaN values found\"\n",
    "\n",
    "# Dimensions\n",
    "input_dim = data_preprocessed.shape[1]\n",
    "encoding_dim = int(input_dim / 2)\n",
    "\n",
    "# Set layer and neurons options\n",
    "layer_options = [1, 5]\n",
    "neuron_options = [100, 500]\n",
    "\n",
    "# Variables to store the best model's configurations and weights\n",
    "best_val_loss = float('inf')  # Set initial value to infinity\n",
    "best_num_layers = None\n",
    "best_num_neurons = None\n",
    "best_weights = None\n",
    "\n",
    "# Iterate over neuron configurations\n",
    "for num_neurons in neuron_options:\n",
    "    # Iterate over layer configurations\n",
    "    for num_layers in layer_options:\n",
    "        K.clear_session()\n",
    "\n",
    "        input_layer = layers.Input(shape=(input_dim,))\n",
    "        encoder_layer = layers.Dense(num_neurons, activation='relu')(input_layer)\n",
    "        \n",
    "        # Add extra layers based on num_layers\n",
    "        for _ in range(1, num_layers):\n",
    "            encoder_layer = layers.Dense(num_neurons, activation='relu')(encoder_layer)\n",
    "\n",
    "        decoder_layer = layers.Dense(input_dim, activation='sigmoid')(encoder_layer)\n",
    "\n",
    "        temp_autoencoder = models.Model(inputs=input_layer, outputs=decoder_layer)\n",
    "        temp_autoencoder.compile(optimizer='adam', loss='mean_squared_error')\n",
    "        \n",
    "        history = temp_autoencoder.fit(\n",
    "            data_preprocessed, data_preprocessed,\n",
    "            epochs=10,  # Adjust this as needed\n",
    "            batch_size=32,\n",
    "            shuffle=True,\n",
    "            validation_split=0.1\n",
    "        )\n",
    "        \n",
    "        final_val_loss = history.history['val_loss'][-1]\n",
    "        if final_val_loss < best_val_loss:\n",
    "            best_val_loss = final_val_loss\n",
    "            best_num_layers = num_layers\n",
    "            best_num_neurons = num_neurons\n",
    "            best_weights = temp_autoencoder.get_weights()\n",
    "\n",
    "# Construct the best model with configurations\n",
    "K.clear_session()\n",
    "input_layer = layers.Input(shape=(input_dim,))\n",
    "encoder_layer = layers.Dense(best_num_neurons, activation='relu')(input_layer)\n",
    "for _ in range(1, best_num_layers):\n",
    "    encoder_layer = layers.Dense(best_num_neurons, activation='relu')(encoder_layer)\n",
    "decoder_layer = layers.Dense(input_dim, activation='sigmoid')(encoder_layer)\n",
    "\n",
    "autoencoder = models.Model(inputs=input_layer, outputs=decoder_layer)\n",
    "autoencoder.compile(optimizer='adam', loss='mean_squared_error')\n",
    "\n",
    "# Load the best weights into the best model\n",
    "autoencoder.set_weights(best_weights)\n",
    "\n",
    "# Display the number of layers and neurons in the best model\n",
    "print(f\"Best Model Configuration:\\nNumber of Layers: {best_num_layers}\\nNumber of Neurons per Layer: {best_num_neurons}\")\n"
   ]
  },
  {
   "cell_type": "markdown",
   "metadata": {},
   "source": [
    "Anomaly detection"
   ]
  },
  {
   "cell_type": "code",
   "execution_count": 2,
   "metadata": {},
   "outputs": [
    {
     "name": "stdout",
     "output_type": "stream",
     "text": [
      "182/182 [==============================] - 0s 1ms/step\n",
      "       reconstruction_error\n",
      "count           5810.000000\n",
      "mean           16583.794699\n",
      "std              119.083977\n",
      "min            16511.012646\n",
      "25%            16530.034104\n",
      "50%            16546.871294\n",
      "75%            16601.174720\n",
      "max            21004.878931\n"
     ]
    }
   ],
   "source": [
    "# Obtain the reconstructed data\n",
    "predictions = autoencoder.predict(data_preprocessed)\n",
    "\n",
    "# Measure the reconstruction error\n",
    "mse = np.mean(np.power(data_preprocessed - predictions, 2), axis=1)\n",
    "\n",
    "# Convert mse to a DataFrame for easier handling\n",
    "mse_df = pd.DataFrame({'reconstruction_error': mse})\n",
    "\n",
    "# Display basic statistics of the error\n",
    "print(mse_df.describe())\n"
   ]
  },
  {
   "cell_type": "markdown",
   "metadata": {},
   "source": [
    "Visualize"
   ]
  },
  {
   "cell_type": "code",
   "execution_count": 3,
   "metadata": {},
   "outputs": [
    {
     "data": {
      "image/png": "[encoded data removed]",
      "text/plain": [
       "<Figure size 1200x600 with 1 Axes>"
      ]
     },
     "metadata": {},
     "output_type": "display_data"
    },
    {
     "name": "stdout",
     "output_type": "stream",
     "text": [
      "Anomaly threshold: 16767.938036402982\n"
     ]
    }
   ],
   "source": [
    "import matplotlib.pyplot as plt\n",
    "import seaborn as sns\n",
    "\n",
    "plt.figure(figsize=(12, 6))\n",
    "sns.histplot(mse_df['reconstruction_error'], bins=50, kde=True)\n",
    "plt.title('Reconstruction error distribution')\n",
    "plt.xlabel('Reconstruction error')\n",
    "plt.ylabel('Frequency')\n",
    "\n",
    "\n",
    "threshold = np.percentile(mse_df['reconstruction_error'], 95)\n",
    "plt.axvline(x=threshold, color='r', linestyle='--', label=f'Threshold: {threshold:.2f}')\n",
    "plt.show() \n",
    "print(f\"Anomaly threshold: {threshold}\")\n",
    "\n"
   ]
  },
  {
   "cell_type": "markdown",
   "metadata": {},
   "source": [
    "Test new data for outliers"
   ]
  },
  {
   "cell_type": "code",
   "execution_count": 6,
   "metadata": {},
   "outputs": [
    {
     "name": "stdout",
     "output_type": "stream",
     "text": [
      "Inf values in data:  0\n",
      "NaN values in data:  0\n",
      "182/182 [==============================] - 0s 1ms/step\n"
     ]
    }
   ],
   "source": [
    "import pandas as pd\n",
    "import numpy as np\n",
    "\n",
    "# Set the file paths\n",
    "file_name_test = \"RT.IRS_Data_2023_Cleaned\"\n",
    "t_data_path = your_path + '2.Cleaned/' + file_name_test +'.csv' # THIS IS THE ORIGINAL TEST DATA \n",
    "t_data_scaled_path = your_path + '3.Scaled/' + file_name_test + '_Scaled.csv' # THIS IS THE SCALED TEST DATA\n",
    "\n",
    "# Load new trade data from CSV (both processed and original)\n",
    "t_data_scaled = pd.read_csv(t_data_scaled_path)\n",
    "t_data = pd.read_csv(t_data_path)\n",
    "\n",
    "# Convert data to float32\n",
    "t_data_scaled = t_data_scaled.astype(np.float32)\n",
    "\n",
    "# Check for inf or NaN values in data\n",
    "print(\"Inf values in data: \", np.isinf(t_data_scaled).values.sum())\n",
    "print(\"NaN values in data: \", np.isnan(t_data_scaled).values.sum())\n",
    "\n",
    "# Check to make sure the data is in expected format\n",
    "try:\n",
    "    t_data_scaled = t_data_scaled.astype(float)\n",
    "except ValueError as e:\n",
    "    print(f\"ValueError: {e}\")\n",
    "\n",
    "\n",
    "# Make sure the autoencoder variable is already defined and trained\n",
    "# Predict with the autoencoder\n",
    "new_predictions = autoencoder.predict(t_data_scaled)\n",
    "\n",
    "# Measure the reconstruction error\n",
    "new_mse = np.mean(np.power(t_data_scaled - new_predictions, 2), axis=1)\n",
    "new_mse_df = pd.DataFrame({'reconstruction_error': new_mse})\n",
    "\n",
    "# Determine whether each trade is an outlier or not\n",
    "outlier_indices = new_mse_df[new_mse_df['reconstruction_error'] > threshold].index\n",
    "\n",
    "# Filter the outlier trades from the original data using the outlier indices\n",
    "outlier_trades_original = t_data.iloc[outlier_indices]\n",
    "\n",
    "# Save the outlier trades to a CSV file in the original format\n",
    "outlier_file_path = your_path + '4.Outliers/' + 'Outlier_IRS_test_full.csv'\n",
    "outlier_trades_original.to_csv(outlier_file_path, index=False)\n"
   ]
  }
 ],
 "metadata": {
  "kernelspec": {
   "display_name": "Python 3",
   "language": "python",
   "name": "python3"
  },
  "language_info": {
   "codemirror_mode": {
    "name": "ipython",
    "version": 3
   },
   "file_extension": ".py",
   "mimetype": "text/x-python",
   "name": "python",
   "nbconvert_exporter": "python",
   "pygments_lexer": "ipython3",
   "version": "3.11.6"
  },
  "orig_nbformat": 4
 },
 "nbformat": 4,
 "nbformat_minor": 2
}
